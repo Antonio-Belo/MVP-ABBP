{
  "nbformat": 4,
  "nbformat_minor": 0,
  "metadata": {
    "colab": {
      "provenance": [],
      "toc_visible": true,
      "include_colab_link": true
    },
    "kernelspec": {
      "name": "python3",
      "display_name": "Python 3"
    },
    "language_info": {
      "name": "python"
    }
  },
  "cells": [
    {
      "cell_type": "markdown",
      "metadata": {
        "id": "view-in-github",
        "colab_type": "text"
      },
      "source": [
        "<a href=\"https://colab.research.google.com/github/Antonio-Belo/MVP-ABBP/blob/main/MVP_ADBP_Sprint1.ipynb\" target=\"_parent\"><img src=\"https://colab.research.google.com/assets/colab-badge.svg\" alt=\"Open In Colab\"/></a>"
      ]
    },
    {
      "cell_type": "markdown",
      "source": [
        "# **Sprint I  - Análise de Dados e Boas Práticas**\n",
        "\n",
        ">*Data Science & Analytics - PUC Rio*\n",
        "\n",
        ">*Antonio Carlos Avallone Belo*"
      ],
      "metadata": {
        "id": "VuvMsGqVjqUM"
      }
    },
    {
      "cell_type": "markdown",
      "source": [
        "## **1. Definição do Problema**"
      ],
      "metadata": {
        "id": "amV3unbEjq3l"
      }
    },
    {
      "cell_type": "markdown",
      "source": [
        "<h4 align=\"justify\">O dataset usado será o <b>Data Science Salaries 2023</b> (Salaries of Different Data Science Fields in the Data Science Domain) disponibilizada pelo Kaggle\n",
        "\n",
        "<h4 align=\"justify\"> O principal objetivo desta análise é obter uma compreensão abrangente das tendências salariais no mercado de trabalho das ciências dos dados e identificar os principais factores que influenciam a remuneração. Ao explorar o conjunto de dados e realizar visualizações de dados perspicazes, pretendo descobrir informações valiosas, como os padrões de crescimento salarial ao longo dos anos, o impacto dos níveis de experiência e dos tipos de emprego nos salários, as variações geográficas na remuneração e a influência das oportunidades de trabalho remoto.\n",
        "<h4 align=\"justify\"> Ao aprofundar estes aspectos, este projeto de análise de dados fornecerá recomendações práticas tanto para os analistas de dados que procuram oportunidades de emprego como para os empregadores que procuram atrair os melhores talentos. As conclusões desta análise permitirão que os analistas de dados tomem decisões informadas sobre as suas carreiras, enquanto as entidades patronais podem adaptar as suas estratégias de contratação e estruturas de remuneração para atrair profissionais especializados em ciências dos dados de forma eficaz. </i>\n",
        "\n",
        "<a> Fonte: https://www.kaggle.com/datasets/arnabchaki/data-science-salaries-2023"
      ],
      "metadata": {
        "id": "hyuARNddmQip"
      }
    },
    {
      "cell_type": "markdown",
      "source": [
        "**O conjunto de dados \"Data Science Job Salaries\" é composto por 11 colunas** :"
      ],
      "metadata": {
        "id": "4CHDi08JrH5d"
      }
    },
    {
      "cell_type": "markdown",
      "source": [
        "\n",
        "\n",
        "\n",
        "*   **work_year** [categorico]  -> <i align=\"justify\">Representa o ano específico em que o salário foi pago. Anos diferentes podem ter condições económicas diferentes que podem ter impacto no nível salarial. </i>\n",
        "\n",
        "*   **experience_level** [categórico] -> <i align=\"justify\">O nível de experiência que uma pessoa tem num determinado emprego. Trata-se de um fator determinante no cálculo do salário, dado que, normalmente, os indivíduos mais experientes recebem salários mais elevados devido às suas competências e conhecimentos avançados. </i>\n",
        "\n",
        "*   **employment_type** [categorico] -> <i align=\"justify\">A natureza do contrato de trabalho, como tempo inteiro, tempo parcial ou contrato, pode influenciar grandemente o salário. Os empregados a tempo inteiro têm frequentemente salários anuais mais elevados em comparação com os seus colegas de tempo parcial ou contratuais. </i>\n",
        "\n",
        "*   **job_title** [categórico]: <i align=\"justify\">A função que um indivíduo desempenha numa empresa. As diferentes funções têm diferentes escalas salariais com base nas responsabilidades e competências exigidas. Por exemplo, as funções de gestão pagam normalmente mais do que as posições de nível de entrada. </i>\n",
        "\n",
        "*   **salário** [numérico] : <i align=\"justify\">O salário bruto total pago ao indivíduo. Este é diretamente influenciado por fatores como o nível de experiência, o cargo e o tipo de emprego. </i>\n",
        "\n",
        "*  **salary_currency** [categorical] : <i align=\"justify\">A moeda específica em que o salário é pago, indicada por um código ISO 4217. As taxas de câmbio podem afetar o valor do salário quando convertido em diferentes moedas.</i>\n",
        "\n",
        "*   **salaryinusd** [numérico] : <i align=\"justify\">O montante total do salário bruto convertido em dólares americanos. Isto permite uma comparação uniforme dos salários em diferentes países e moedas. </i>\n",
        "\n",
        "*   **employee_residence** [categórico]: <i align=\"justify\">O país principal de residência do empregado, indicado por um código ISO 3166. O custo de vida e as taxas salariais prevalecentes no país de residência do empregado podem afetar os níveis salariais. </i>\n",
        "\n",
        "*   **remote_ratio** : <i align=\"justify\">A proporção de trabalho efetuado remotamente. Com o aumento do trabalho remoto, as empresas podem ajustar os salários com base no custo de vida na localização do empregado e na proporção de trabalho remoto. </i>\n",
        "\n",
        "*   **company_location** [categorical]:<i align=\"justify\"> A localização do escritório principal do empregador ou da sucursal que detém o contrato. As empresas em diferentes localizações podem oferecer diferentes tabelas salariais devido a diferentes condições económicas e custo de vida.</i>\n",
        "\n",
        "*  **company_size**  [categórico]: <i align=\"justify\">O número médio de trabalhadores da empresa durante o ano de trabalho. As empresas maiores têm frequentemente tabelas salariais estruturadas e podem oferecer salários mais elevados devido a economias de escala e a maiores fluxos de receitas. </i>\n",
        "\n",
        "\n",
        "\n",
        "  \n",
        "\n",
        "\n",
        "\n",
        "\n",
        "\n",
        "\n",
        "\n",
        "\n",
        "\n"
      ],
      "metadata": {
        "id": "hKy3ZzT2milv"
      }
    },
    {
      "cell_type": "markdown",
      "source": [
        "\n",
        "<h4><b>Domínios variáveis categóricas</b>\n",
        "</h>\n",
        "\n",
        "**company_size** - **Porte**\n",
        "\n",
        "|Código|Descrição|\n",
        "|---|---|\n",
        "|L|Grande|\n",
        "|M|Média|\n",
        "|S|Pequena|\n",
        "\n",
        "**experience_level** - **experiencia**\n",
        "\n",
        "|Código|Descrição|\n",
        "|---|---|\n",
        "|EN|Entry-level|\n",
        "|MI|Mid-level|\n",
        "|SE|Senior-level|\n",
        "|EX|Executive-level|\n",
        "\n",
        "\n",
        "**employment_type** - **tp_emprego**\n",
        "\n",
        "|Código|Descrição|\n",
        "|---|---|\n",
        "|CT|Contrato|\n",
        "|FL|Free Lancer|\n",
        "|FT|Full Time|\n",
        "|PT|Part Time|\n",
        "\n",
        "\n",
        "\n"
      ],
      "metadata": {
        "id": "F_ZeEtSMwcYp"
      }
    },
    {
      "cell_type": "markdown",
      "source": [
        "**Preparação do Ambiente**"
      ],
      "metadata": {
        "id": "zzKvOzmUo4fM"
      }
    },
    {
      "cell_type": "code",
      "source": [
        "#  imports\n",
        "import pandas                as pd\n",
        "import numpy                 as np\n",
        "import matplotlib            as mp\n",
        "import matplotlib.pyplot     as plt\n",
        "import seaborn               as sns\n",
        "import missingno             as ms                 # para tratamento de missings\n",
        "import plotly.express        as px                 # plotar mapas\n",
        "import matplotlib.pyplot     as plt\n",
        "#\n",
        "from matplotlib              import cm\n",
        "from pandas                  import set_option\n",
        "from pandas.plotting         import scatter_matrix\n",
        "from sklearn.preprocessing   import MinMaxScaler   # normalização\n",
        "from sklearn.preprocessing   import StandardScaler # padronização\n",
        "from sklearn.preprocessing   import OrdinalEncoder # ordinal encoding\n",
        "from sklearn.preprocessing   import OneHotEncoder  # one-hot e dummy encoding\n",
        "from sklearn.model_selection import train_test_split\n",
        "from sklearn.model_selection import KFold\n",
        "from sklearn.model_selection import StratifiedKFold\n",
        "from sklearn.model_selection import cross_val_score\n",
        "from sklearn.model_selection import GridSearchCV\n",
        "from sklearn.linear_model    import LogisticRegression\n",
        "from sklearn.metrics         import classification_report\n",
        "from sklearn.tree            import DecisionTreeClassifier\n",
        "#adicionando a base para a feature selection\n",
        "from sklearn.feature_selection import SelectKBest # para a Seleção Univariada\n",
        "from sklearn.feature_selection import f_classif # para o teste ANOVA da Seleção Univariada\n",
        "from sklearn.feature_selection import RFE # para a Eliminação Recursiva de Atributos\n",
        "from imblearn.over_sampling    import SMOTE   # fazer o balanceamento\n"
      ],
      "metadata": {
        "id": "vZ4ooRdXot-C"
      },
      "execution_count": 1,
      "outputs": []
    },
    {
      "cell_type": "code",
      "source": [
        "# configuração para não exibir os warnings\n",
        "import warnings\n",
        "warnings.filterwarnings(\"ignore\")\n"
      ],
      "metadata": {
        "id": "jjY7EluAmzqO"
      },
      "execution_count": 2,
      "outputs": []
    },
    {
      "cell_type": "markdown",
      "source": [
        "## **2. Carga de Dados**\n",
        "\n"
      ],
      "metadata": {
        "id": "Dkc6364Pm2Ct"
      }
    },
    {
      "cell_type": "code",
      "source": [
        "# Carrega arquivo csv usando Pandas usando uma URL\n",
        "\n",
        "# Informa a URL de importação do dataset\n",
        "url = \"https://raw.githubusercontent.com/Antonio-Belo/MVP-ABBP/main/ds_salaries.csv\"\n",
        "\n",
        "# Renomeando as colunas\n",
        "new_columns = {\n",
        "    'work_year'         : 'ano',\n",
        "    'experience_level'  : 'experiencia',\n",
        "    'employment_type'   : 'tp_emprego',\n",
        "    'job_title'         : 'cargo',\n",
        "    'salary'            : 'salario',\n",
        "    'salary_currency'   : 'moeda',\n",
        "    'salary_in_usd'     : 'salario_usd',\n",
        "    'employee_residence': 'residencia',\n",
        "    'remote_ratio'      : 'remoto_perc',\n",
        "    'company_location'  : 'local_job',\n",
        "    'company_size'      : 'porte'\n",
        "}\n",
        "\n",
        "# Lê o arquivo utilizando as colunas informadas\n",
        "dataset = pd.read_csv(url, names=new_columns, skiprows=1, delimiter=',')\n",
        "dataset.rename(columns=new_columns, inplace=True)\n",
        "#\n",
        "df_orig = pd.read_csv(url, names=new_columns, skiprows=1, delimiter=',')\n",
        "df_orig.rename(columns=new_columns, inplace=True)\n",
        "#"
      ],
      "metadata": {
        "id": "HHR2_N88m3eJ"
      },
      "execution_count": 3,
      "outputs": []
    },
    {
      "cell_type": "code",
      "source": [
        "dataset.head()"
      ],
      "metadata": {
        "colab": {
          "base_uri": "https://localhost:8080/",
          "height": 206
        },
        "id": "vFOP0okWnCNL",
        "outputId": "dfdc9690-ece6-4bef-c3b6-d0bcd50090fe"
      },
      "execution_count": 4,
      "outputs": [
        {
          "output_type": "execute_result",
          "data": {
            "text/plain": [
              "    ano experiencia tp_emprego                     cargo  salario moeda  \\\n",
              "0  2023          SE         FT  Principal Data Scientist    80000   EUR   \n",
              "1  2023          MI         CT               ML Engineer    30000   USD   \n",
              "2  2023          MI         CT               ML Engineer    25500   USD   \n",
              "3  2023          SE         FT            Data Scientist   175000   USD   \n",
              "4  2023          SE         FT            Data Scientist   120000   USD   \n",
              "\n",
              "   salario_usd residencia  remoto_perc local_job porte  \n",
              "0        85847         ES          100        ES     L  \n",
              "1        30000         US          100        US     S  \n",
              "2        25500         US          100        US     S  \n",
              "3       175000         CA          100        CA     M  \n",
              "4       120000         CA          100        CA     M  "
            ],
            "text/html": [
              "\n",
              "  <div id=\"df-7a0a6d79-6d28-47db-a594-d03d8532aed3\" class=\"colab-df-container\">\n",
              "    <div>\n",
              "<style scoped>\n",
              "    .dataframe tbody tr th:only-of-type {\n",
              "        vertical-align: middle;\n",
              "    }\n",
              "\n",
              "    .dataframe tbody tr th {\n",
              "        vertical-align: top;\n",
              "    }\n",
              "\n",
              "    .dataframe thead th {\n",
              "        text-align: right;\n",
              "    }\n",
              "</style>\n",
              "<table border=\"1\" class=\"dataframe\">\n",
              "  <thead>\n",
              "    <tr style=\"text-align: right;\">\n",
              "      <th></th>\n",
              "      <th>ano</th>\n",
              "      <th>experiencia</th>\n",
              "      <th>tp_emprego</th>\n",
              "      <th>cargo</th>\n",
              "      <th>salario</th>\n",
              "      <th>moeda</th>\n",
              "      <th>salario_usd</th>\n",
              "      <th>residencia</th>\n",
              "      <th>remoto_perc</th>\n",
              "      <th>local_job</th>\n",
              "      <th>porte</th>\n",
              "    </tr>\n",
              "  </thead>\n",
              "  <tbody>\n",
              "    <tr>\n",
              "      <th>0</th>\n",
              "      <td>2023</td>\n",
              "      <td>SE</td>\n",
              "      <td>FT</td>\n",
              "      <td>Principal Data Scientist</td>\n",
              "      <td>80000</td>\n",
              "      <td>EUR</td>\n",
              "      <td>85847</td>\n",
              "      <td>ES</td>\n",
              "      <td>100</td>\n",
              "      <td>ES</td>\n",
              "      <td>L</td>\n",
              "    </tr>\n",
              "    <tr>\n",
              "      <th>1</th>\n",
              "      <td>2023</td>\n",
              "      <td>MI</td>\n",
              "      <td>CT</td>\n",
              "      <td>ML Engineer</td>\n",
              "      <td>30000</td>\n",
              "      <td>USD</td>\n",
              "      <td>30000</td>\n",
              "      <td>US</td>\n",
              "      <td>100</td>\n",
              "      <td>US</td>\n",
              "      <td>S</td>\n",
              "    </tr>\n",
              "    <tr>\n",
              "      <th>2</th>\n",
              "      <td>2023</td>\n",
              "      <td>MI</td>\n",
              "      <td>CT</td>\n",
              "      <td>ML Engineer</td>\n",
              "      <td>25500</td>\n",
              "      <td>USD</td>\n",
              "      <td>25500</td>\n",
              "      <td>US</td>\n",
              "      <td>100</td>\n",
              "      <td>US</td>\n",
              "      <td>S</td>\n",
              "    </tr>\n",
              "    <tr>\n",
              "      <th>3</th>\n",
              "      <td>2023</td>\n",
              "      <td>SE</td>\n",
              "      <td>FT</td>\n",
              "      <td>Data Scientist</td>\n",
              "      <td>175000</td>\n",
              "      <td>USD</td>\n",
              "      <td>175000</td>\n",
              "      <td>CA</td>\n",
              "      <td>100</td>\n",
              "      <td>CA</td>\n",
              "      <td>M</td>\n",
              "    </tr>\n",
              "    <tr>\n",
              "      <th>4</th>\n",
              "      <td>2023</td>\n",
              "      <td>SE</td>\n",
              "      <td>FT</td>\n",
              "      <td>Data Scientist</td>\n",
              "      <td>120000</td>\n",
              "      <td>USD</td>\n",
              "      <td>120000</td>\n",
              "      <td>CA</td>\n",
              "      <td>100</td>\n",
              "      <td>CA</td>\n",
              "      <td>M</td>\n",
              "    </tr>\n",
              "  </tbody>\n",
              "</table>\n",
              "</div>\n",
              "    <div class=\"colab-df-buttons\">\n",
              "\n",
              "  <div class=\"colab-df-container\">\n",
              "    <button class=\"colab-df-convert\" onclick=\"convertToInteractive('df-7a0a6d79-6d28-47db-a594-d03d8532aed3')\"\n",
              "            title=\"Convert this dataframe to an interactive table.\"\n",
              "            style=\"display:none;\">\n",
              "\n",
              "  <svg xmlns=\"http://www.w3.org/2000/svg\" height=\"24px\" viewBox=\"0 -960 960 960\">\n",
              "    <path d=\"M120-120v-720h720v720H120Zm60-500h600v-160H180v160Zm220 220h160v-160H400v160Zm0 220h160v-160H400v160ZM180-400h160v-160H180v160Zm440 0h160v-160H620v160ZM180-180h160v-160H180v160Zm440 0h160v-160H620v160Z\"/>\n",
              "  </svg>\n",
              "    </button>\n",
              "\n",
              "  <style>\n",
              "    .colab-df-container {\n",
              "      display:flex;\n",
              "      gap: 12px;\n",
              "    }\n",
              "\n",
              "    .colab-df-convert {\n",
              "      background-color: #E8F0FE;\n",
              "      border: none;\n",
              "      border-radius: 50%;\n",
              "      cursor: pointer;\n",
              "      display: none;\n",
              "      fill: #1967D2;\n",
              "      height: 32px;\n",
              "      padding: 0 0 0 0;\n",
              "      width: 32px;\n",
              "    }\n",
              "\n",
              "    .colab-df-convert:hover {\n",
              "      background-color: #E2EBFA;\n",
              "      box-shadow: 0px 1px 2px rgba(60, 64, 67, 0.3), 0px 1px 3px 1px rgba(60, 64, 67, 0.15);\n",
              "      fill: #174EA6;\n",
              "    }\n",
              "\n",
              "    .colab-df-buttons div {\n",
              "      margin-bottom: 4px;\n",
              "    }\n",
              "\n",
              "    [theme=dark] .colab-df-convert {\n",
              "      background-color: #3B4455;\n",
              "      fill: #D2E3FC;\n",
              "    }\n",
              "\n",
              "    [theme=dark] .colab-df-convert:hover {\n",
              "      background-color: #434B5C;\n",
              "      box-shadow: 0px 1px 3px 1px rgba(0, 0, 0, 0.15);\n",
              "      filter: drop-shadow(0px 1px 2px rgba(0, 0, 0, 0.3));\n",
              "      fill: #FFFFFF;\n",
              "    }\n",
              "  </style>\n",
              "\n",
              "    <script>\n",
              "      const buttonEl =\n",
              "        document.querySelector('#df-7a0a6d79-6d28-47db-a594-d03d8532aed3 button.colab-df-convert');\n",
              "      buttonEl.style.display =\n",
              "        google.colab.kernel.accessAllowed ? 'block' : 'none';\n",
              "\n",
              "      async function convertToInteractive(key) {\n",
              "        const element = document.querySelector('#df-7a0a6d79-6d28-47db-a594-d03d8532aed3');\n",
              "        const dataTable =\n",
              "          await google.colab.kernel.invokeFunction('convertToInteractive',\n",
              "                                                    [key], {});\n",
              "        if (!dataTable) return;\n",
              "\n",
              "        const docLinkHtml = 'Like what you see? Visit the ' +\n",
              "          '<a target=\"_blank\" href=https://colab.research.google.com/notebooks/data_table.ipynb>data table notebook</a>'\n",
              "          + ' to learn more about interactive tables.';\n",
              "        element.innerHTML = '';\n",
              "        dataTable['output_type'] = 'display_data';\n",
              "        await google.colab.output.renderOutput(dataTable, element);\n",
              "        const docLink = document.createElement('div');\n",
              "        docLink.innerHTML = docLinkHtml;\n",
              "        element.appendChild(docLink);\n",
              "      }\n",
              "    </script>\n",
              "  </div>\n",
              "\n",
              "\n",
              "<div id=\"df-c86cb0eb-8a83-48ae-b189-9f7a48baa470\">\n",
              "  <button class=\"colab-df-quickchart\" onclick=\"quickchart('df-c86cb0eb-8a83-48ae-b189-9f7a48baa470')\"\n",
              "            title=\"Suggest charts\"\n",
              "            style=\"display:none;\">\n",
              "\n",
              "<svg xmlns=\"http://www.w3.org/2000/svg\" height=\"24px\"viewBox=\"0 0 24 24\"\n",
              "     width=\"24px\">\n",
              "    <g>\n",
              "        <path d=\"M19 3H5c-1.1 0-2 .9-2 2v14c0 1.1.9 2 2 2h14c1.1 0 2-.9 2-2V5c0-1.1-.9-2-2-2zM9 17H7v-7h2v7zm4 0h-2V7h2v10zm4 0h-2v-4h2v4z\"/>\n",
              "    </g>\n",
              "</svg>\n",
              "  </button>\n",
              "\n",
              "<style>\n",
              "  .colab-df-quickchart {\n",
              "      --bg-color: #E8F0FE;\n",
              "      --fill-color: #1967D2;\n",
              "      --hover-bg-color: #E2EBFA;\n",
              "      --hover-fill-color: #174EA6;\n",
              "      --disabled-fill-color: #AAA;\n",
              "      --disabled-bg-color: #DDD;\n",
              "  }\n",
              "\n",
              "  [theme=dark] .colab-df-quickchart {\n",
              "      --bg-color: #3B4455;\n",
              "      --fill-color: #D2E3FC;\n",
              "      --hover-bg-color: #434B5C;\n",
              "      --hover-fill-color: #FFFFFF;\n",
              "      --disabled-bg-color: #3B4455;\n",
              "      --disabled-fill-color: #666;\n",
              "  }\n",
              "\n",
              "  .colab-df-quickchart {\n",
              "    background-color: var(--bg-color);\n",
              "    border: none;\n",
              "    border-radius: 50%;\n",
              "    cursor: pointer;\n",
              "    display: none;\n",
              "    fill: var(--fill-color);\n",
              "    height: 32px;\n",
              "    padding: 0;\n",
              "    width: 32px;\n",
              "  }\n",
              "\n",
              "  .colab-df-quickchart:hover {\n",
              "    background-color: var(--hover-bg-color);\n",
              "    box-shadow: 0 1px 2px rgba(60, 64, 67, 0.3), 0 1px 3px 1px rgba(60, 64, 67, 0.15);\n",
              "    fill: var(--button-hover-fill-color);\n",
              "  }\n",
              "\n",
              "  .colab-df-quickchart-complete:disabled,\n",
              "  .colab-df-quickchart-complete:disabled:hover {\n",
              "    background-color: var(--disabled-bg-color);\n",
              "    fill: var(--disabled-fill-color);\n",
              "    box-shadow: none;\n",
              "  }\n",
              "\n",
              "  .colab-df-spinner {\n",
              "    border: 2px solid var(--fill-color);\n",
              "    border-color: transparent;\n",
              "    border-bottom-color: var(--fill-color);\n",
              "    animation:\n",
              "      spin 1s steps(1) infinite;\n",
              "  }\n",
              "\n",
              "  @keyframes spin {\n",
              "    0% {\n",
              "      border-color: transparent;\n",
              "      border-bottom-color: var(--fill-color);\n",
              "      border-left-color: var(--fill-color);\n",
              "    }\n",
              "    20% {\n",
              "      border-color: transparent;\n",
              "      border-left-color: var(--fill-color);\n",
              "      border-top-color: var(--fill-color);\n",
              "    }\n",
              "    30% {\n",
              "      border-color: transparent;\n",
              "      border-left-color: var(--fill-color);\n",
              "      border-top-color: var(--fill-color);\n",
              "      border-right-color: var(--fill-color);\n",
              "    }\n",
              "    40% {\n",
              "      border-color: transparent;\n",
              "      border-right-color: var(--fill-color);\n",
              "      border-top-color: var(--fill-color);\n",
              "    }\n",
              "    60% {\n",
              "      border-color: transparent;\n",
              "      border-right-color: var(--fill-color);\n",
              "    }\n",
              "    80% {\n",
              "      border-color: transparent;\n",
              "      border-right-color: var(--fill-color);\n",
              "      border-bottom-color: var(--fill-color);\n",
              "    }\n",
              "    90% {\n",
              "      border-color: transparent;\n",
              "      border-bottom-color: var(--fill-color);\n",
              "    }\n",
              "  }\n",
              "</style>\n",
              "\n",
              "  <script>\n",
              "    async function quickchart(key) {\n",
              "      const quickchartButtonEl =\n",
              "        document.querySelector('#' + key + ' button');\n",
              "      quickchartButtonEl.disabled = true;  // To prevent multiple clicks.\n",
              "      quickchartButtonEl.classList.add('colab-df-spinner');\n",
              "      try {\n",
              "        const charts = await google.colab.kernel.invokeFunction(\n",
              "            'suggestCharts', [key], {});\n",
              "      } catch (error) {\n",
              "        console.error('Error during call to suggestCharts:', error);\n",
              "      }\n",
              "      quickchartButtonEl.classList.remove('colab-df-spinner');\n",
              "      quickchartButtonEl.classList.add('colab-df-quickchart-complete');\n",
              "    }\n",
              "    (() => {\n",
              "      let quickchartButtonEl =\n",
              "        document.querySelector('#df-c86cb0eb-8a83-48ae-b189-9f7a48baa470 button');\n",
              "      quickchartButtonEl.style.display =\n",
              "        google.colab.kernel.accessAllowed ? 'block' : 'none';\n",
              "    })();\n",
              "  </script>\n",
              "</div>\n",
              "\n",
              "    </div>\n",
              "  </div>\n"
            ]
          },
          "metadata": {},
          "execution_count": 4
        }
      ]
    },
    {
      "cell_type": "markdown",
      "source": [
        "## **3. Análise de Dados**\n",
        "\n",
        "\n",
        "\n"
      ],
      "metadata": {
        "id": "1To35prhnGbr"
      }
    },
    {
      "cell_type": "markdown",
      "source": [
        "### **3.1. Estatísticas Descritivas**"
      ],
      "metadata": {
        "id": "l93jhOVyoaLa"
      }
    },
    {
      "cell_type": "markdown",
      "source": [
        "A estatística descritiva pode fornecer insights valiosos sobre os salários de cientistas de dados. Pode-se calcular medidas como média, mediana e desvio padrão para entender a distribuição salarial na área. Além disso, gráficos, como histogramas ou box plots, podem ilustrar a dispersão e identificar possíveis outliers nos dados salariais. Essas análises ajudam a ter uma visão mais completa e compreensiva da estrutura salarial para profissionais em ciência de dados."
      ],
      "metadata": {
        "id": "rN0BQdKRltSn"
      }
    },
    {
      "cell_type": "code",
      "source": [
        "# Mostra as dimensões do dataset\n",
        "print(dataset.shape)"
      ],
      "metadata": {
        "id": "lsALEjYoniyK",
        "colab": {
          "base_uri": "https://localhost:8080/"
        },
        "outputId": "d1d3d727-74df-4598-cc35-502c81be3c26"
      },
      "execution_count": 5,
      "outputs": [
        {
          "output_type": "stream",
          "name": "stdout",
          "text": [
            "(3755, 11)\n"
          ]
        }
      ]
    },
    {
      "cell_type": "code",
      "source": [
        "# Mostra as informações do dataset\n",
        "print(dataset.info())"
      ],
      "metadata": {
        "colab": {
          "base_uri": "https://localhost:8080/"
        },
        "id": "xvlVfOSXnurQ",
        "outputId": "e1b21666-8516-4b22-df25-3e8e1a1fb424"
      },
      "execution_count": 6,
      "outputs": [
        {
          "output_type": "stream",
          "name": "stdout",
          "text": [
            "<class 'pandas.core.frame.DataFrame'>\n",
            "RangeIndex: 3755 entries, 0 to 3754\n",
            "Data columns (total 11 columns):\n",
            " #   Column       Non-Null Count  Dtype \n",
            "---  ------       --------------  ----- \n",
            " 0   ano          3755 non-null   int64 \n",
            " 1   experiencia  3755 non-null   object\n",
            " 2   tp_emprego   3755 non-null   object\n",
            " 3   cargo        3755 non-null   object\n",
            " 4   salario      3755 non-null   int64 \n",
            " 5   moeda        3755 non-null   object\n",
            " 6   salario_usd  3755 non-null   int64 \n",
            " 7   residencia   3755 non-null   object\n",
            " 8   remoto_perc  3755 non-null   int64 \n",
            " 9   local_job    3755 non-null   object\n",
            " 10  porte        3755 non-null   object\n",
            "dtypes: int64(4), object(7)\n",
            "memory usage: 322.8+ KB\n",
            "None\n"
          ]
        }
      ]
    },
    {
      "cell_type": "code",
      "source": [
        "# Mostra as 10 primeiras linhas do dataset\n",
        "dataset.head(10)"
      ],
      "metadata": {
        "colab": {
          "base_uri": "https://localhost:8080/",
          "height": 363
        },
        "id": "8KbmJRkXnzBs",
        "outputId": "f024667e-80b9-47e7-f33b-67eee4fa557a"
      },
      "execution_count": 7,
      "outputs": [
        {
          "output_type": "execute_result",
          "data": {
            "text/plain": [
              "    ano experiencia tp_emprego                     cargo  salario moeda  \\\n",
              "0  2023          SE         FT  Principal Data Scientist    80000   EUR   \n",
              "1  2023          MI         CT               ML Engineer    30000   USD   \n",
              "2  2023          MI         CT               ML Engineer    25500   USD   \n",
              "3  2023          SE         FT            Data Scientist   175000   USD   \n",
              "4  2023          SE         FT            Data Scientist   120000   USD   \n",
              "5  2023          SE         FT         Applied Scientist   222200   USD   \n",
              "6  2023          SE         FT         Applied Scientist   136000   USD   \n",
              "7  2023          SE         FT            Data Scientist   219000   USD   \n",
              "8  2023          SE         FT            Data Scientist   141000   USD   \n",
              "9  2023          SE         FT            Data Scientist   147100   USD   \n",
              "\n",
              "   salario_usd residencia  remoto_perc local_job porte  \n",
              "0        85847         ES          100        ES     L  \n",
              "1        30000         US          100        US     S  \n",
              "2        25500         US          100        US     S  \n",
              "3       175000         CA          100        CA     M  \n",
              "4       120000         CA          100        CA     M  \n",
              "5       222200         US            0        US     L  \n",
              "6       136000         US            0        US     L  \n",
              "7       219000         CA            0        CA     M  \n",
              "8       141000         CA            0        CA     M  \n",
              "9       147100         US            0        US     M  "
            ],
            "text/html": [
              "\n",
              "  <div id=\"df-5cf7399e-1272-48ee-8477-f4641453d572\" class=\"colab-df-container\">\n",
              "    <div>\n",
              "<style scoped>\n",
              "    .dataframe tbody tr th:only-of-type {\n",
              "        vertical-align: middle;\n",
              "    }\n",
              "\n",
              "    .dataframe tbody tr th {\n",
              "        vertical-align: top;\n",
              "    }\n",
              "\n",
              "    .dataframe thead th {\n",
              "        text-align: right;\n",
              "    }\n",
              "</style>\n",
              "<table border=\"1\" class=\"dataframe\">\n",
              "  <thead>\n",
              "    <tr style=\"text-align: right;\">\n",
              "      <th></th>\n",
              "      <th>ano</th>\n",
              "      <th>experiencia</th>\n",
              "      <th>tp_emprego</th>\n",
              "      <th>cargo</th>\n",
              "      <th>salario</th>\n",
              "      <th>moeda</th>\n",
              "      <th>salario_usd</th>\n",
              "      <th>residencia</th>\n",
              "      <th>remoto_perc</th>\n",
              "      <th>local_job</th>\n",
              "      <th>porte</th>\n",
              "    </tr>\n",
              "  </thead>\n",
              "  <tbody>\n",
              "    <tr>\n",
              "      <th>0</th>\n",
              "      <td>2023</td>\n",
              "      <td>SE</td>\n",
              "      <td>FT</td>\n",
              "      <td>Principal Data Scientist</td>\n",
              "      <td>80000</td>\n",
              "      <td>EUR</td>\n",
              "      <td>85847</td>\n",
              "      <td>ES</td>\n",
              "      <td>100</td>\n",
              "      <td>ES</td>\n",
              "      <td>L</td>\n",
              "    </tr>\n",
              "    <tr>\n",
              "      <th>1</th>\n",
              "      <td>2023</td>\n",
              "      <td>MI</td>\n",
              "      <td>CT</td>\n",
              "      <td>ML Engineer</td>\n",
              "      <td>30000</td>\n",
              "      <td>USD</td>\n",
              "      <td>30000</td>\n",
              "      <td>US</td>\n",
              "      <td>100</td>\n",
              "      <td>US</td>\n",
              "      <td>S</td>\n",
              "    </tr>\n",
              "    <tr>\n",
              "      <th>2</th>\n",
              "      <td>2023</td>\n",
              "      <td>MI</td>\n",
              "      <td>CT</td>\n",
              "      <td>ML Engineer</td>\n",
              "      <td>25500</td>\n",
              "      <td>USD</td>\n",
              "      <td>25500</td>\n",
              "      <td>US</td>\n",
              "      <td>100</td>\n",
              "      <td>US</td>\n",
              "      <td>S</td>\n",
              "    </tr>\n",
              "    <tr>\n",
              "      <th>3</th>\n",
              "      <td>2023</td>\n",
              "      <td>SE</td>\n",
              "      <td>FT</td>\n",
              "      <td>Data Scientist</td>\n",
              "      <td>175000</td>\n",
              "      <td>USD</td>\n",
              "      <td>175000</td>\n",
              "      <td>CA</td>\n",
              "      <td>100</td>\n",
              "      <td>CA</td>\n",
              "      <td>M</td>\n",
              "    </tr>\n",
              "    <tr>\n",
              "      <th>4</th>\n",
              "      <td>2023</td>\n",
              "      <td>SE</td>\n",
              "      <td>FT</td>\n",
              "      <td>Data Scientist</td>\n",
              "      <td>120000</td>\n",
              "      <td>USD</td>\n",
              "      <td>120000</td>\n",
              "      <td>CA</td>\n",
              "      <td>100</td>\n",
              "      <td>CA</td>\n",
              "      <td>M</td>\n",
              "    </tr>\n",
              "    <tr>\n",
              "      <th>5</th>\n",
              "      <td>2023</td>\n",
              "      <td>SE</td>\n",
              "      <td>FT</td>\n",
              "      <td>Applied Scientist</td>\n",
              "      <td>222200</td>\n",
              "      <td>USD</td>\n",
              "      <td>222200</td>\n",
              "      <td>US</td>\n",
              "      <td>0</td>\n",
              "      <td>US</td>\n",
              "      <td>L</td>\n",
              "    </tr>\n",
              "    <tr>\n",
              "      <th>6</th>\n",
              "      <td>2023</td>\n",
              "      <td>SE</td>\n",
              "      <td>FT</td>\n",
              "      <td>Applied Scientist</td>\n",
              "      <td>136000</td>\n",
              "      <td>USD</td>\n",
              "      <td>136000</td>\n",
              "      <td>US</td>\n",
              "      <td>0</td>\n",
              "      <td>US</td>\n",
              "      <td>L</td>\n",
              "    </tr>\n",
              "    <tr>\n",
              "      <th>7</th>\n",
              "      <td>2023</td>\n",
              "      <td>SE</td>\n",
              "      <td>FT</td>\n",
              "      <td>Data Scientist</td>\n",
              "      <td>219000</td>\n",
              "      <td>USD</td>\n",
              "      <td>219000</td>\n",
              "      <td>CA</td>\n",
              "      <td>0</td>\n",
              "      <td>CA</td>\n",
              "      <td>M</td>\n",
              "    </tr>\n",
              "    <tr>\n",
              "      <th>8</th>\n",
              "      <td>2023</td>\n",
              "      <td>SE</td>\n",
              "      <td>FT</td>\n",
              "      <td>Data Scientist</td>\n",
              "      <td>141000</td>\n",
              "      <td>USD</td>\n",
              "      <td>141000</td>\n",
              "      <td>CA</td>\n",
              "      <td>0</td>\n",
              "      <td>CA</td>\n",
              "      <td>M</td>\n",
              "    </tr>\n",
              "    <tr>\n",
              "      <th>9</th>\n",
              "      <td>2023</td>\n",
              "      <td>SE</td>\n",
              "      <td>FT</td>\n",
              "      <td>Data Scientist</td>\n",
              "      <td>147100</td>\n",
              "      <td>USD</td>\n",
              "      <td>147100</td>\n",
              "      <td>US</td>\n",
              "      <td>0</td>\n",
              "      <td>US</td>\n",
              "      <td>M</td>\n",
              "    </tr>\n",
              "  </tbody>\n",
              "</table>\n",
              "</div>\n",
              "    <div class=\"colab-df-buttons\">\n",
              "\n",
              "  <div class=\"colab-df-container\">\n",
              "    <button class=\"colab-df-convert\" onclick=\"convertToInteractive('df-5cf7399e-1272-48ee-8477-f4641453d572')\"\n",
              "            title=\"Convert this dataframe to an interactive table.\"\n",
              "            style=\"display:none;\">\n",
              "\n",
              "  <svg xmlns=\"http://www.w3.org/2000/svg\" height=\"24px\" viewBox=\"0 -960 960 960\">\n",
              "    <path d=\"M120-120v-720h720v720H120Zm60-500h600v-160H180v160Zm220 220h160v-160H400v160Zm0 220h160v-160H400v160ZM180-400h160v-160H180v160Zm440 0h160v-160H620v160ZM180-180h160v-160H180v160Zm440 0h160v-160H620v160Z\"/>\n",
              "  </svg>\n",
              "    </button>\n",
              "\n",
              "  <style>\n",
              "    .colab-df-container {\n",
              "      display:flex;\n",
              "      gap: 12px;\n",
              "    }\n",
              "\n",
              "    .colab-df-convert {\n",
              "      background-color: #E8F0FE;\n",
              "      border: none;\n",
              "      border-radius: 50%;\n",
              "      cursor: pointer;\n",
              "      display: none;\n",
              "      fill: #1967D2;\n",
              "      height: 32px;\n",
              "      padding: 0 0 0 0;\n",
              "      width: 32px;\n",
              "    }\n",
              "\n",
              "    .colab-df-convert:hover {\n",
              "      background-color: #E2EBFA;\n",
              "      box-shadow: 0px 1px 2px rgba(60, 64, 67, 0.3), 0px 1px 3px 1px rgba(60, 64, 67, 0.15);\n",
              "      fill: #174EA6;\n",
              "    }\n",
              "\n",
              "    .colab-df-buttons div {\n",
              "      margin-bottom: 4px;\n",
              "    }\n",
              "\n",
              "    [theme=dark] .colab-df-convert {\n",
              "      background-color: #3B4455;\n",
              "      fill: #D2E3FC;\n",
              "    }\n",
              "\n",
              "    [theme=dark] .colab-df-convert:hover {\n",
              "      background-color: #434B5C;\n",
              "      box-shadow: 0px 1px 3px 1px rgba(0, 0, 0, 0.15);\n",
              "      filter: drop-shadow(0px 1px 2px rgba(0, 0, 0, 0.3));\n",
              "      fill: #FFFFFF;\n",
              "    }\n",
              "  </style>\n",
              "\n",
              "    <script>\n",
              "      const buttonEl =\n",
              "        document.querySelector('#df-5cf7399e-1272-48ee-8477-f4641453d572 button.colab-df-convert');\n",
              "      buttonEl.style.display =\n",
              "        google.colab.kernel.accessAllowed ? 'block' : 'none';\n",
              "\n",
              "      async function convertToInteractive(key) {\n",
              "        const element = document.querySelector('#df-5cf7399e-1272-48ee-8477-f4641453d572');\n",
              "        const dataTable =\n",
              "          await google.colab.kernel.invokeFunction('convertToInteractive',\n",
              "                                                    [key], {});\n",
              "        if (!dataTable) return;\n",
              "\n",
              "        const docLinkHtml = 'Like what you see? Visit the ' +\n",
              "          '<a target=\"_blank\" href=https://colab.research.google.com/notebooks/data_table.ipynb>data table notebook</a>'\n",
              "          + ' to learn more about interactive tables.';\n",
              "        element.innerHTML = '';\n",
              "        dataTable['output_type'] = 'display_data';\n",
              "        await google.colab.output.renderOutput(dataTable, element);\n",
              "        const docLink = document.createElement('div');\n",
              "        docLink.innerHTML = docLinkHtml;\n",
              "        element.appendChild(docLink);\n",
              "      }\n",
              "    </script>\n",
              "  </div>\n",
              "\n",
              "\n",
              "<div id=\"df-f0acadea-460b-46ea-a795-c8cd19b0c635\">\n",
              "  <button class=\"colab-df-quickchart\" onclick=\"quickchart('df-f0acadea-460b-46ea-a795-c8cd19b0c635')\"\n",
              "            title=\"Suggest charts\"\n",
              "            style=\"display:none;\">\n",
              "\n",
              "<svg xmlns=\"http://www.w3.org/2000/svg\" height=\"24px\"viewBox=\"0 0 24 24\"\n",
              "     width=\"24px\">\n",
              "    <g>\n",
              "        <path d=\"M19 3H5c-1.1 0-2 .9-2 2v14c0 1.1.9 2 2 2h14c1.1 0 2-.9 2-2V5c0-1.1-.9-2-2-2zM9 17H7v-7h2v7zm4 0h-2V7h2v10zm4 0h-2v-4h2v4z\"/>\n",
              "    </g>\n",
              "</svg>\n",
              "  </button>\n",
              "\n",
              "<style>\n",
              "  .colab-df-quickchart {\n",
              "      --bg-color: #E8F0FE;\n",
              "      --fill-color: #1967D2;\n",
              "      --hover-bg-color: #E2EBFA;\n",
              "      --hover-fill-color: #174EA6;\n",
              "      --disabled-fill-color: #AAA;\n",
              "      --disabled-bg-color: #DDD;\n",
              "  }\n",
              "\n",
              "  [theme=dark] .colab-df-quickchart {\n",
              "      --bg-color: #3B4455;\n",
              "      --fill-color: #D2E3FC;\n",
              "      --hover-bg-color: #434B5C;\n",
              "      --hover-fill-color: #FFFFFF;\n",
              "      --disabled-bg-color: #3B4455;\n",
              "      --disabled-fill-color: #666;\n",
              "  }\n",
              "\n",
              "  .colab-df-quickchart {\n",
              "    background-color: var(--bg-color);\n",
              "    border: none;\n",
              "    border-radius: 50%;\n",
              "    cursor: pointer;\n",
              "    display: none;\n",
              "    fill: var(--fill-color);\n",
              "    height: 32px;\n",
              "    padding: 0;\n",
              "    width: 32px;\n",
              "  }\n",
              "\n",
              "  .colab-df-quickchart:hover {\n",
              "    background-color: var(--hover-bg-color);\n",
              "    box-shadow: 0 1px 2px rgba(60, 64, 67, 0.3), 0 1px 3px 1px rgba(60, 64, 67, 0.15);\n",
              "    fill: var(--button-hover-fill-color);\n",
              "  }\n",
              "\n",
              "  .colab-df-quickchart-complete:disabled,\n",
              "  .colab-df-quickchart-complete:disabled:hover {\n",
              "    background-color: var(--disabled-bg-color);\n",
              "    fill: var(--disabled-fill-color);\n",
              "    box-shadow: none;\n",
              "  }\n",
              "\n",
              "  .colab-df-spinner {\n",
              "    border: 2px solid var(--fill-color);\n",
              "    border-color: transparent;\n",
              "    border-bottom-color: var(--fill-color);\n",
              "    animation:\n",
              "      spin 1s steps(1) infinite;\n",
              "  }\n",
              "\n",
              "  @keyframes spin {\n",
              "    0% {\n",
              "      border-color: transparent;\n",
              "      border-bottom-color: var(--fill-color);\n",
              "      border-left-color: var(--fill-color);\n",
              "    }\n",
              "    20% {\n",
              "      border-color: transparent;\n",
              "      border-left-color: var(--fill-color);\n",
              "      border-top-color: var(--fill-color);\n",
              "    }\n",
              "    30% {\n",
              "      border-color: transparent;\n",
              "      border-left-color: var(--fill-color);\n",
              "      border-top-color: var(--fill-color);\n",
              "      border-right-color: var(--fill-color);\n",
              "    }\n",
              "    40% {\n",
              "      border-color: transparent;\n",
              "      border-right-color: var(--fill-color);\n",
              "      border-top-color: var(--fill-color);\n",
              "    }\n",
              "    60% {\n",
              "      border-color: transparent;\n",
              "      border-right-color: var(--fill-color);\n",
              "    }\n",
              "    80% {\n",
              "      border-color: transparent;\n",
              "      border-right-color: var(--fill-color);\n",
              "      border-bottom-color: var(--fill-color);\n",
              "    }\n",
              "    90% {\n",
              "      border-color: transparent;\n",
              "      border-bottom-color: var(--fill-color);\n",
              "    }\n",
              "  }\n",
              "</style>\n",
              "\n",
              "  <script>\n",
              "    async function quickchart(key) {\n",
              "      const quickchartButtonEl =\n",
              "        document.querySelector('#' + key + ' button');\n",
              "      quickchartButtonEl.disabled = true;  // To prevent multiple clicks.\n",
              "      quickchartButtonEl.classList.add('colab-df-spinner');\n",
              "      try {\n",
              "        const charts = await google.colab.kernel.invokeFunction(\n",
              "            'suggestCharts', [key], {});\n",
              "      } catch (error) {\n",
              "        console.error('Error during call to suggestCharts:', error);\n",
              "      }\n",
              "      quickchartButtonEl.classList.remove('colab-df-spinner');\n",
              "      quickchartButtonEl.classList.add('colab-df-quickchart-complete');\n",
              "    }\n",
              "    (() => {\n",
              "      let quickchartButtonEl =\n",
              "        document.querySelector('#df-f0acadea-460b-46ea-a795-c8cd19b0c635 button');\n",
              "      quickchartButtonEl.style.display =\n",
              "        google.colab.kernel.accessAllowed ? 'block' : 'none';\n",
              "    })();\n",
              "  </script>\n",
              "</div>\n",
              "\n",
              "    </div>\n",
              "  </div>\n"
            ]
          },
          "metadata": {},
          "execution_count": 7
        }
      ]
    },
    {
      "cell_type": "code",
      "source": [
        "# Mostra as 10 últimas linhas do dataset\n",
        "dataset.tail(10)"
      ],
      "metadata": {
        "colab": {
          "base_uri": "https://localhost:8080/",
          "height": 363
        },
        "id": "o1MSYADLn2Ux",
        "outputId": "5cb779fb-41c5-4029-d870-0d47f6be8977"
      },
      "execution_count": 8,
      "outputs": [
        {
          "output_type": "execute_result",
          "data": {
            "text/plain": [
              "       ano experiencia tp_emprego                               cargo  \\\n",
              "3745  2021          SE         FT            Director of Data Science   \n",
              "3746  2021          MI         FT                      Data Scientist   \n",
              "3747  2021          MI         FT  Applied Machine Learning Scientist   \n",
              "3748  2021          MI         FT                       Data Engineer   \n",
              "3749  2021          SE         FT                     Data Specialist   \n",
              "3750  2020          SE         FT                      Data Scientist   \n",
              "3751  2021          MI         FT            Principal Data Scientist   \n",
              "3752  2020          EN         FT                      Data Scientist   \n",
              "3753  2020          EN         CT               Business Data Analyst   \n",
              "3754  2021          SE         FT                Data Science Manager   \n",
              "\n",
              "      salario moeda  salario_usd residencia  remoto_perc local_job porte  \n",
              "3745   168000   USD       168000         JP            0        JP     S  \n",
              "3746   160000   SGD       119059         SG          100        IL     M  \n",
              "3747   423000   USD       423000         US           50        US     L  \n",
              "3748    24000   EUR        28369         MT           50        MT     L  \n",
              "3749   165000   USD       165000         US          100        US     L  \n",
              "3750   412000   USD       412000         US          100        US     L  \n",
              "3751   151000   USD       151000         US          100        US     L  \n",
              "3752   105000   USD       105000         US          100        US     S  \n",
              "3753   100000   USD       100000         US          100        US     L  \n",
              "3754  7000000   INR        94665         IN           50        IN     L  "
            ],
            "text/html": [
              "\n",
              "  <div id=\"df-6615888e-2f5b-4799-8b64-bc48ed578410\" class=\"colab-df-container\">\n",
              "    <div>\n",
              "<style scoped>\n",
              "    .dataframe tbody tr th:only-of-type {\n",
              "        vertical-align: middle;\n",
              "    }\n",
              "\n",
              "    .dataframe tbody tr th {\n",
              "        vertical-align: top;\n",
              "    }\n",
              "\n",
              "    .dataframe thead th {\n",
              "        text-align: right;\n",
              "    }\n",
              "</style>\n",
              "<table border=\"1\" class=\"dataframe\">\n",
              "  <thead>\n",
              "    <tr style=\"text-align: right;\">\n",
              "      <th></th>\n",
              "      <th>ano</th>\n",
              "      <th>experiencia</th>\n",
              "      <th>tp_emprego</th>\n",
              "      <th>cargo</th>\n",
              "      <th>salario</th>\n",
              "      <th>moeda</th>\n",
              "      <th>salario_usd</th>\n",
              "      <th>residencia</th>\n",
              "      <th>remoto_perc</th>\n",
              "      <th>local_job</th>\n",
              "      <th>porte</th>\n",
              "    </tr>\n",
              "  </thead>\n",
              "  <tbody>\n",
              "    <tr>\n",
              "      <th>3745</th>\n",
              "      <td>2021</td>\n",
              "      <td>SE</td>\n",
              "      <td>FT</td>\n",
              "      <td>Director of Data Science</td>\n",
              "      <td>168000</td>\n",
              "      <td>USD</td>\n",
              "      <td>168000</td>\n",
              "      <td>JP</td>\n",
              "      <td>0</td>\n",
              "      <td>JP</td>\n",
              "      <td>S</td>\n",
              "    </tr>\n",
              "    <tr>\n",
              "      <th>3746</th>\n",
              "      <td>2021</td>\n",
              "      <td>MI</td>\n",
              "      <td>FT</td>\n",
              "      <td>Data Scientist</td>\n",
              "      <td>160000</td>\n",
              "      <td>SGD</td>\n",
              "      <td>119059</td>\n",
              "      <td>SG</td>\n",
              "      <td>100</td>\n",
              "      <td>IL</td>\n",
              "      <td>M</td>\n",
              "    </tr>\n",
              "    <tr>\n",
              "      <th>3747</th>\n",
              "      <td>2021</td>\n",
              "      <td>MI</td>\n",
              "      <td>FT</td>\n",
              "      <td>Applied Machine Learning Scientist</td>\n",
              "      <td>423000</td>\n",
              "      <td>USD</td>\n",
              "      <td>423000</td>\n",
              "      <td>US</td>\n",
              "      <td>50</td>\n",
              "      <td>US</td>\n",
              "      <td>L</td>\n",
              "    </tr>\n",
              "    <tr>\n",
              "      <th>3748</th>\n",
              "      <td>2021</td>\n",
              "      <td>MI</td>\n",
              "      <td>FT</td>\n",
              "      <td>Data Engineer</td>\n",
              "      <td>24000</td>\n",
              "      <td>EUR</td>\n",
              "      <td>28369</td>\n",
              "      <td>MT</td>\n",
              "      <td>50</td>\n",
              "      <td>MT</td>\n",
              "      <td>L</td>\n",
              "    </tr>\n",
              "    <tr>\n",
              "      <th>3749</th>\n",
              "      <td>2021</td>\n",
              "      <td>SE</td>\n",
              "      <td>FT</td>\n",
              "      <td>Data Specialist</td>\n",
              "      <td>165000</td>\n",
              "      <td>USD</td>\n",
              "      <td>165000</td>\n",
              "      <td>US</td>\n",
              "      <td>100</td>\n",
              "      <td>US</td>\n",
              "      <td>L</td>\n",
              "    </tr>\n",
              "    <tr>\n",
              "      <th>3750</th>\n",
              "      <td>2020</td>\n",
              "      <td>SE</td>\n",
              "      <td>FT</td>\n",
              "      <td>Data Scientist</td>\n",
              "      <td>412000</td>\n",
              "      <td>USD</td>\n",
              "      <td>412000</td>\n",
              "      <td>US</td>\n",
              "      <td>100</td>\n",
              "      <td>US</td>\n",
              "      <td>L</td>\n",
              "    </tr>\n",
              "    <tr>\n",
              "      <th>3751</th>\n",
              "      <td>2021</td>\n",
              "      <td>MI</td>\n",
              "      <td>FT</td>\n",
              "      <td>Principal Data Scientist</td>\n",
              "      <td>151000</td>\n",
              "      <td>USD</td>\n",
              "      <td>151000</td>\n",
              "      <td>US</td>\n",
              "      <td>100</td>\n",
              "      <td>US</td>\n",
              "      <td>L</td>\n",
              "    </tr>\n",
              "    <tr>\n",
              "      <th>3752</th>\n",
              "      <td>2020</td>\n",
              "      <td>EN</td>\n",
              "      <td>FT</td>\n",
              "      <td>Data Scientist</td>\n",
              "      <td>105000</td>\n",
              "      <td>USD</td>\n",
              "      <td>105000</td>\n",
              "      <td>US</td>\n",
              "      <td>100</td>\n",
              "      <td>US</td>\n",
              "      <td>S</td>\n",
              "    </tr>\n",
              "    <tr>\n",
              "      <th>3753</th>\n",
              "      <td>2020</td>\n",
              "      <td>EN</td>\n",
              "      <td>CT</td>\n",
              "      <td>Business Data Analyst</td>\n",
              "      <td>100000</td>\n",
              "      <td>USD</td>\n",
              "      <td>100000</td>\n",
              "      <td>US</td>\n",
              "      <td>100</td>\n",
              "      <td>US</td>\n",
              "      <td>L</td>\n",
              "    </tr>\n",
              "    <tr>\n",
              "      <th>3754</th>\n",
              "      <td>2021</td>\n",
              "      <td>SE</td>\n",
              "      <td>FT</td>\n",
              "      <td>Data Science Manager</td>\n",
              "      <td>7000000</td>\n",
              "      <td>INR</td>\n",
              "      <td>94665</td>\n",
              "      <td>IN</td>\n",
              "      <td>50</td>\n",
              "      <td>IN</td>\n",
              "      <td>L</td>\n",
              "    </tr>\n",
              "  </tbody>\n",
              "</table>\n",
              "</div>\n",
              "    <div class=\"colab-df-buttons\">\n",
              "\n",
              "  <div class=\"colab-df-container\">\n",
              "    <button class=\"colab-df-convert\" onclick=\"convertToInteractive('df-6615888e-2f5b-4799-8b64-bc48ed578410')\"\n",
              "            title=\"Convert this dataframe to an interactive table.\"\n",
              "            style=\"display:none;\">\n",
              "\n",
              "  <svg xmlns=\"http://www.w3.org/2000/svg\" height=\"24px\" viewBox=\"0 -960 960 960\">\n",
              "    <path d=\"M120-120v-720h720v720H120Zm60-500h600v-160H180v160Zm220 220h160v-160H400v160Zm0 220h160v-160H400v160ZM180-400h160v-160H180v160Zm440 0h160v-160H620v160ZM180-180h160v-160H180v160Zm440 0h160v-160H620v160Z\"/>\n",
              "  </svg>\n",
              "    </button>\n",
              "\n",
              "  <style>\n",
              "    .colab-df-container {\n",
              "      display:flex;\n",
              "      gap: 12px;\n",
              "    }\n",
              "\n",
              "    .colab-df-convert {\n",
              "      background-color: #E8F0FE;\n",
              "      border: none;\n",
              "      border-radius: 50%;\n",
              "      cursor: pointer;\n",
              "      display: none;\n",
              "      fill: #1967D2;\n",
              "      height: 32px;\n",
              "      padding: 0 0 0 0;\n",
              "      width: 32px;\n",
              "    }\n",
              "\n",
              "    .colab-df-convert:hover {\n",
              "      background-color: #E2EBFA;\n",
              "      box-shadow: 0px 1px 2px rgba(60, 64, 67, 0.3), 0px 1px 3px 1px rgba(60, 64, 67, 0.15);\n",
              "      fill: #174EA6;\n",
              "    }\n",
              "\n",
              "    .colab-df-buttons div {\n",
              "      margin-bottom: 4px;\n",
              "    }\n",
              "\n",
              "    [theme=dark] .colab-df-convert {\n",
              "      background-color: #3B4455;\n",
              "      fill: #D2E3FC;\n",
              "    }\n",
              "\n",
              "    [theme=dark] .colab-df-convert:hover {\n",
              "      background-color: #434B5C;\n",
              "      box-shadow: 0px 1px 3px 1px rgba(0, 0, 0, 0.15);\n",
              "      filter: drop-shadow(0px 1px 2px rgba(0, 0, 0, 0.3));\n",
              "      fill: #FFFFFF;\n",
              "    }\n",
              "  </style>\n",
              "\n",
              "    <script>\n",
              "      const buttonEl =\n",
              "        document.querySelector('#df-6615888e-2f5b-4799-8b64-bc48ed578410 button.colab-df-convert');\n",
              "      buttonEl.style.display =\n",
              "        google.colab.kernel.accessAllowed ? 'block' : 'none';\n",
              "\n",
              "      async function convertToInteractive(key) {\n",
              "        const element = document.querySelector('#df-6615888e-2f5b-4799-8b64-bc48ed578410');\n",
              "        const dataTable =\n",
              "          await google.colab.kernel.invokeFunction('convertToInteractive',\n",
              "                                                    [key], {});\n",
              "        if (!dataTable) return;\n",
              "\n",
              "        const docLinkHtml = 'Like what you see? Visit the ' +\n",
              "          '<a target=\"_blank\" href=https://colab.research.google.com/notebooks/data_table.ipynb>data table notebook</a>'\n",
              "          + ' to learn more about interactive tables.';\n",
              "        element.innerHTML = '';\n",
              "        dataTable['output_type'] = 'display_data';\n",
              "        await google.colab.output.renderOutput(dataTable, element);\n",
              "        const docLink = document.createElement('div');\n",
              "        docLink.innerHTML = docLinkHtml;\n",
              "        element.appendChild(docLink);\n",
              "      }\n",
              "    </script>\n",
              "  </div>\n",
              "\n",
              "\n",
              "<div id=\"df-a00f1d28-3001-4462-b017-97259c3fefc4\">\n",
              "  <button class=\"colab-df-quickchart\" onclick=\"quickchart('df-a00f1d28-3001-4462-b017-97259c3fefc4')\"\n",
              "            title=\"Suggest charts\"\n",
              "            style=\"display:none;\">\n",
              "\n",
              "<svg xmlns=\"http://www.w3.org/2000/svg\" height=\"24px\"viewBox=\"0 0 24 24\"\n",
              "     width=\"24px\">\n",
              "    <g>\n",
              "        <path d=\"M19 3H5c-1.1 0-2 .9-2 2v14c0 1.1.9 2 2 2h14c1.1 0 2-.9 2-2V5c0-1.1-.9-2-2-2zM9 17H7v-7h2v7zm4 0h-2V7h2v10zm4 0h-2v-4h2v4z\"/>\n",
              "    </g>\n",
              "</svg>\n",
              "  </button>\n",
              "\n",
              "<style>\n",
              "  .colab-df-quickchart {\n",
              "      --bg-color: #E8F0FE;\n",
              "      --fill-color: #1967D2;\n",
              "      --hover-bg-color: #E2EBFA;\n",
              "      --hover-fill-color: #174EA6;\n",
              "      --disabled-fill-color: #AAA;\n",
              "      --disabled-bg-color: #DDD;\n",
              "  }\n",
              "\n",
              "  [theme=dark] .colab-df-quickchart {\n",
              "      --bg-color: #3B4455;\n",
              "      --fill-color: #D2E3FC;\n",
              "      --hover-bg-color: #434B5C;\n",
              "      --hover-fill-color: #FFFFFF;\n",
              "      --disabled-bg-color: #3B4455;\n",
              "      --disabled-fill-color: #666;\n",
              "  }\n",
              "\n",
              "  .colab-df-quickchart {\n",
              "    background-color: var(--bg-color);\n",
              "    border: none;\n",
              "    border-radius: 50%;\n",
              "    cursor: pointer;\n",
              "    display: none;\n",
              "    fill: var(--fill-color);\n",
              "    height: 32px;\n",
              "    padding: 0;\n",
              "    width: 32px;\n",
              "  }\n",
              "\n",
              "  .colab-df-quickchart:hover {\n",
              "    background-color: var(--hover-bg-color);\n",
              "    box-shadow: 0 1px 2px rgba(60, 64, 67, 0.3), 0 1px 3px 1px rgba(60, 64, 67, 0.15);\n",
              "    fill: var(--button-hover-fill-color);\n",
              "  }\n",
              "\n",
              "  .colab-df-quickchart-complete:disabled,\n",
              "  .colab-df-quickchart-complete:disabled:hover {\n",
              "    background-color: var(--disabled-bg-color);\n",
              "    fill: var(--disabled-fill-color);\n",
              "    box-shadow: none;\n",
              "  }\n",
              "\n",
              "  .colab-df-spinner {\n",
              "    border: 2px solid var(--fill-color);\n",
              "    border-color: transparent;\n",
              "    border-bottom-color: var(--fill-color);\n",
              "    animation:\n",
              "      spin 1s steps(1) infinite;\n",
              "  }\n",
              "\n",
              "  @keyframes spin {\n",
              "    0% {\n",
              "      border-color: transparent;\n",
              "      border-bottom-color: var(--fill-color);\n",
              "      border-left-color: var(--fill-color);\n",
              "    }\n",
              "    20% {\n",
              "      border-color: transparent;\n",
              "      border-left-color: var(--fill-color);\n",
              "      border-top-color: var(--fill-color);\n",
              "    }\n",
              "    30% {\n",
              "      border-color: transparent;\n",
              "      border-left-color: var(--fill-color);\n",
              "      border-top-color: var(--fill-color);\n",
              "      border-right-color: var(--fill-color);\n",
              "    }\n",
              "    40% {\n",
              "      border-color: transparent;\n",
              "      border-right-color: var(--fill-color);\n",
              "      border-top-color: var(--fill-color);\n",
              "    }\n",
              "    60% {\n",
              "      border-color: transparent;\n",
              "      border-right-color: var(--fill-color);\n",
              "    }\n",
              "    80% {\n",
              "      border-color: transparent;\n",
              "      border-right-color: var(--fill-color);\n",
              "      border-bottom-color: var(--fill-color);\n",
              "    }\n",
              "    90% {\n",
              "      border-color: transparent;\n",
              "      border-bottom-color: var(--fill-color);\n",
              "    }\n",
              "  }\n",
              "</style>\n",
              "\n",
              "  <script>\n",
              "    async function quickchart(key) {\n",
              "      const quickchartButtonEl =\n",
              "        document.querySelector('#' + key + ' button');\n",
              "      quickchartButtonEl.disabled = true;  // To prevent multiple clicks.\n",
              "      quickchartButtonEl.classList.add('colab-df-spinner');\n",
              "      try {\n",
              "        const charts = await google.colab.kernel.invokeFunction(\n",
              "            'suggestCharts', [key], {});\n",
              "      } catch (error) {\n",
              "        console.error('Error during call to suggestCharts:', error);\n",
              "      }\n",
              "      quickchartButtonEl.classList.remove('colab-df-spinner');\n",
              "      quickchartButtonEl.classList.add('colab-df-quickchart-complete');\n",
              "    }\n",
              "    (() => {\n",
              "      let quickchartButtonEl =\n",
              "        document.querySelector('#df-a00f1d28-3001-4462-b017-97259c3fefc4 button');\n",
              "      quickchartButtonEl.style.display =\n",
              "        google.colab.kernel.accessAllowed ? 'block' : 'none';\n",
              "    })();\n",
              "  </script>\n",
              "</div>\n",
              "\n",
              "    </div>\n",
              "  </div>\n"
            ]
          },
          "metadata": {},
          "execution_count": 8
        }
      ]
    },
    {
      "cell_type": "code",
      "source": [
        "# Verifica o tipo de dataset de cada atributo\n",
        "dataset.dtypes\n"
      ],
      "metadata": {
        "colab": {
          "base_uri": "https://localhost:8080/"
        },
        "id": "8AlcVnpBn8dx",
        "outputId": "de1ef78b-a9d4-4872-e055-ee881367806f"
      },
      "execution_count": 9,
      "outputs": [
        {
          "output_type": "execute_result",
          "data": {
            "text/plain": [
              "ano             int64\n",
              "experiencia    object\n",
              "tp_emprego     object\n",
              "cargo          object\n",
              "salario         int64\n",
              "moeda          object\n",
              "salario_usd     int64\n",
              "residencia     object\n",
              "remoto_perc     int64\n",
              "local_job      object\n",
              "porte          object\n",
              "dtype: object"
            ]
          },
          "metadata": {},
          "execution_count": 9
        }
      ]
    },
    {
      "cell_type": "code",
      "source": [
        "# Faz um resumo estatístico do dataset (média, desvio padrão, mínimo, máximo e os quartis)\n",
        "dataset.describe()"
      ],
      "metadata": {
        "colab": {
          "base_uri": "https://localhost:8080/",
          "height": 300
        },
        "id": "b7gPGjw0oIHL",
        "outputId": "b110351d-d7e8-4c6e-94d8-9f197fadbe77"
      },
      "execution_count": 10,
      "outputs": [
        {
          "output_type": "execute_result",
          "data": {
            "text/plain": [
              "               ano       salario    salario_usd  remoto_perc\n",
              "count  3755.000000  3.755000e+03    3755.000000  3755.000000\n",
              "mean   2022.373635  1.906956e+05  137570.389880    46.271638\n",
              "std       0.691448  6.716765e+05   63055.625278    48.589050\n",
              "min    2020.000000  6.000000e+03    5132.000000     0.000000\n",
              "25%    2022.000000  1.000000e+05   95000.000000     0.000000\n",
              "50%    2022.000000  1.380000e+05  135000.000000     0.000000\n",
              "75%    2023.000000  1.800000e+05  175000.000000   100.000000\n",
              "max    2023.000000  3.040000e+07  450000.000000   100.000000"
            ],
            "text/html": [
              "\n",
              "  <div id=\"df-54712144-1796-4c37-88f6-bc995450f73a\" class=\"colab-df-container\">\n",
              "    <div>\n",
              "<style scoped>\n",
              "    .dataframe tbody tr th:only-of-type {\n",
              "        vertical-align: middle;\n",
              "    }\n",
              "\n",
              "    .dataframe tbody tr th {\n",
              "        vertical-align: top;\n",
              "    }\n",
              "\n",
              "    .dataframe thead th {\n",
              "        text-align: right;\n",
              "    }\n",
              "</style>\n",
              "<table border=\"1\" class=\"dataframe\">\n",
              "  <thead>\n",
              "    <tr style=\"text-align: right;\">\n",
              "      <th></th>\n",
              "      <th>ano</th>\n",
              "      <th>salario</th>\n",
              "      <th>salario_usd</th>\n",
              "      <th>remoto_perc</th>\n",
              "    </tr>\n",
              "  </thead>\n",
              "  <tbody>\n",
              "    <tr>\n",
              "      <th>count</th>\n",
              "      <td>3755.000000</td>\n",
              "      <td>3.755000e+03</td>\n",
              "      <td>3755.000000</td>\n",
              "      <td>3755.000000</td>\n",
              "    </tr>\n",
              "    <tr>\n",
              "      <th>mean</th>\n",
              "      <td>2022.373635</td>\n",
              "      <td>1.906956e+05</td>\n",
              "      <td>137570.389880</td>\n",
              "      <td>46.271638</td>\n",
              "    </tr>\n",
              "    <tr>\n",
              "      <th>std</th>\n",
              "      <td>0.691448</td>\n",
              "      <td>6.716765e+05</td>\n",
              "      <td>63055.625278</td>\n",
              "      <td>48.589050</td>\n",
              "    </tr>\n",
              "    <tr>\n",
              "      <th>min</th>\n",
              "      <td>2020.000000</td>\n",
              "      <td>6.000000e+03</td>\n",
              "      <td>5132.000000</td>\n",
              "      <td>0.000000</td>\n",
              "    </tr>\n",
              "    <tr>\n",
              "      <th>25%</th>\n",
              "      <td>2022.000000</td>\n",
              "      <td>1.000000e+05</td>\n",
              "      <td>95000.000000</td>\n",
              "      <td>0.000000</td>\n",
              "    </tr>\n",
              "    <tr>\n",
              "      <th>50%</th>\n",
              "      <td>2022.000000</td>\n",
              "      <td>1.380000e+05</td>\n",
              "      <td>135000.000000</td>\n",
              "      <td>0.000000</td>\n",
              "    </tr>\n",
              "    <tr>\n",
              "      <th>75%</th>\n",
              "      <td>2023.000000</td>\n",
              "      <td>1.800000e+05</td>\n",
              "      <td>175000.000000</td>\n",
              "      <td>100.000000</td>\n",
              "    </tr>\n",
              "    <tr>\n",
              "      <th>max</th>\n",
              "      <td>2023.000000</td>\n",
              "      <td>3.040000e+07</td>\n",
              "      <td>450000.000000</td>\n",
              "      <td>100.000000</td>\n",
              "    </tr>\n",
              "  </tbody>\n",
              "</table>\n",
              "</div>\n",
              "    <div class=\"colab-df-buttons\">\n",
              "\n",
              "  <div class=\"colab-df-container\">\n",
              "    <button class=\"colab-df-convert\" onclick=\"convertToInteractive('df-54712144-1796-4c37-88f6-bc995450f73a')\"\n",
              "            title=\"Convert this dataframe to an interactive table.\"\n",
              "            style=\"display:none;\">\n",
              "\n",
              "  <svg xmlns=\"http://www.w3.org/2000/svg\" height=\"24px\" viewBox=\"0 -960 960 960\">\n",
              "    <path d=\"M120-120v-720h720v720H120Zm60-500h600v-160H180v160Zm220 220h160v-160H400v160Zm0 220h160v-160H400v160ZM180-400h160v-160H180v160Zm440 0h160v-160H620v160ZM180-180h160v-160H180v160Zm440 0h160v-160H620v160Z\"/>\n",
              "  </svg>\n",
              "    </button>\n",
              "\n",
              "  <style>\n",
              "    .colab-df-container {\n",
              "      display:flex;\n",
              "      gap: 12px;\n",
              "    }\n",
              "\n",
              "    .colab-df-convert {\n",
              "      background-color: #E8F0FE;\n",
              "      border: none;\n",
              "      border-radius: 50%;\n",
              "      cursor: pointer;\n",
              "      display: none;\n",
              "      fill: #1967D2;\n",
              "      height: 32px;\n",
              "      padding: 0 0 0 0;\n",
              "      width: 32px;\n",
              "    }\n",
              "\n",
              "    .colab-df-convert:hover {\n",
              "      background-color: #E2EBFA;\n",
              "      box-shadow: 0px 1px 2px rgba(60, 64, 67, 0.3), 0px 1px 3px 1px rgba(60, 64, 67, 0.15);\n",
              "      fill: #174EA6;\n",
              "    }\n",
              "\n",
              "    .colab-df-buttons div {\n",
              "      margin-bottom: 4px;\n",
              "    }\n",
              "\n",
              "    [theme=dark] .colab-df-convert {\n",
              "      background-color: #3B4455;\n",
              "      fill: #D2E3FC;\n",
              "    }\n",
              "\n",
              "    [theme=dark] .colab-df-convert:hover {\n",
              "      background-color: #434B5C;\n",
              "      box-shadow: 0px 1px 3px 1px rgba(0, 0, 0, 0.15);\n",
              "      filter: drop-shadow(0px 1px 2px rgba(0, 0, 0, 0.3));\n",
              "      fill: #FFFFFF;\n",
              "    }\n",
              "  </style>\n",
              "\n",
              "    <script>\n",
              "      const buttonEl =\n",
              "        document.querySelector('#df-54712144-1796-4c37-88f6-bc995450f73a button.colab-df-convert');\n",
              "      buttonEl.style.display =\n",
              "        google.colab.kernel.accessAllowed ? 'block' : 'none';\n",
              "\n",
              "      async function convertToInteractive(key) {\n",
              "        const element = document.querySelector('#df-54712144-1796-4c37-88f6-bc995450f73a');\n",
              "        const dataTable =\n",
              "          await google.colab.kernel.invokeFunction('convertToInteractive',\n",
              "                                                    [key], {});\n",
              "        if (!dataTable) return;\n",
              "\n",
              "        const docLinkHtml = 'Like what you see? Visit the ' +\n",
              "          '<a target=\"_blank\" href=https://colab.research.google.com/notebooks/data_table.ipynb>data table notebook</a>'\n",
              "          + ' to learn more about interactive tables.';\n",
              "        element.innerHTML = '';\n",
              "        dataTable['output_type'] = 'display_data';\n",
              "        await google.colab.output.renderOutput(dataTable, element);\n",
              "        const docLink = document.createElement('div');\n",
              "        docLink.innerHTML = docLinkHtml;\n",
              "        element.appendChild(docLink);\n",
              "      }\n",
              "    </script>\n",
              "  </div>\n",
              "\n",
              "\n",
              "<div id=\"df-40d25a86-0ed3-43c1-be3e-db060242edba\">\n",
              "  <button class=\"colab-df-quickchart\" onclick=\"quickchart('df-40d25a86-0ed3-43c1-be3e-db060242edba')\"\n",
              "            title=\"Suggest charts\"\n",
              "            style=\"display:none;\">\n",
              "\n",
              "<svg xmlns=\"http://www.w3.org/2000/svg\" height=\"24px\"viewBox=\"0 0 24 24\"\n",
              "     width=\"24px\">\n",
              "    <g>\n",
              "        <path d=\"M19 3H5c-1.1 0-2 .9-2 2v14c0 1.1.9 2 2 2h14c1.1 0 2-.9 2-2V5c0-1.1-.9-2-2-2zM9 17H7v-7h2v7zm4 0h-2V7h2v10zm4 0h-2v-4h2v4z\"/>\n",
              "    </g>\n",
              "</svg>\n",
              "  </button>\n",
              "\n",
              "<style>\n",
              "  .colab-df-quickchart {\n",
              "      --bg-color: #E8F0FE;\n",
              "      --fill-color: #1967D2;\n",
              "      --hover-bg-color: #E2EBFA;\n",
              "      --hover-fill-color: #174EA6;\n",
              "      --disabled-fill-color: #AAA;\n",
              "      --disabled-bg-color: #DDD;\n",
              "  }\n",
              "\n",
              "  [theme=dark] .colab-df-quickchart {\n",
              "      --bg-color: #3B4455;\n",
              "      --fill-color: #D2E3FC;\n",
              "      --hover-bg-color: #434B5C;\n",
              "      --hover-fill-color: #FFFFFF;\n",
              "      --disabled-bg-color: #3B4455;\n",
              "      --disabled-fill-color: #666;\n",
              "  }\n",
              "\n",
              "  .colab-df-quickchart {\n",
              "    background-color: var(--bg-color);\n",
              "    border: none;\n",
              "    border-radius: 50%;\n",
              "    cursor: pointer;\n",
              "    display: none;\n",
              "    fill: var(--fill-color);\n",
              "    height: 32px;\n",
              "    padding: 0;\n",
              "    width: 32px;\n",
              "  }\n",
              "\n",
              "  .colab-df-quickchart:hover {\n",
              "    background-color: var(--hover-bg-color);\n",
              "    box-shadow: 0 1px 2px rgba(60, 64, 67, 0.3), 0 1px 3px 1px rgba(60, 64, 67, 0.15);\n",
              "    fill: var(--button-hover-fill-color);\n",
              "  }\n",
              "\n",
              "  .colab-df-quickchart-complete:disabled,\n",
              "  .colab-df-quickchart-complete:disabled:hover {\n",
              "    background-color: var(--disabled-bg-color);\n",
              "    fill: var(--disabled-fill-color);\n",
              "    box-shadow: none;\n",
              "  }\n",
              "\n",
              "  .colab-df-spinner {\n",
              "    border: 2px solid var(--fill-color);\n",
              "    border-color: transparent;\n",
              "    border-bottom-color: var(--fill-color);\n",
              "    animation:\n",
              "      spin 1s steps(1) infinite;\n",
              "  }\n",
              "\n",
              "  @keyframes spin {\n",
              "    0% {\n",
              "      border-color: transparent;\n",
              "      border-bottom-color: var(--fill-color);\n",
              "      border-left-color: var(--fill-color);\n",
              "    }\n",
              "    20% {\n",
              "      border-color: transparent;\n",
              "      border-left-color: var(--fill-color);\n",
              "      border-top-color: var(--fill-color);\n",
              "    }\n",
              "    30% {\n",
              "      border-color: transparent;\n",
              "      border-left-color: var(--fill-color);\n",
              "      border-top-color: var(--fill-color);\n",
              "      border-right-color: var(--fill-color);\n",
              "    }\n",
              "    40% {\n",
              "      border-color: transparent;\n",
              "      border-right-color: var(--fill-color);\n",
              "      border-top-color: var(--fill-color);\n",
              "    }\n",
              "    60% {\n",
              "      border-color: transparent;\n",
              "      border-right-color: var(--fill-color);\n",
              "    }\n",
              "    80% {\n",
              "      border-color: transparent;\n",
              "      border-right-color: var(--fill-color);\n",
              "      border-bottom-color: var(--fill-color);\n",
              "    }\n",
              "    90% {\n",
              "      border-color: transparent;\n",
              "      border-bottom-color: var(--fill-color);\n",
              "    }\n",
              "  }\n",
              "</style>\n",
              "\n",
              "  <script>\n",
              "    async function quickchart(key) {\n",
              "      const quickchartButtonEl =\n",
              "        document.querySelector('#' + key + ' button');\n",
              "      quickchartButtonEl.disabled = true;  // To prevent multiple clicks.\n",
              "      quickchartButtonEl.classList.add('colab-df-spinner');\n",
              "      try {\n",
              "        const charts = await google.colab.kernel.invokeFunction(\n",
              "            'suggestCharts', [key], {});\n",
              "      } catch (error) {\n",
              "        console.error('Error during call to suggestCharts:', error);\n",
              "      }\n",
              "      quickchartButtonEl.classList.remove('colab-df-spinner');\n",
              "      quickchartButtonEl.classList.add('colab-df-quickchart-complete');\n",
              "    }\n",
              "    (() => {\n",
              "      let quickchartButtonEl =\n",
              "        document.querySelector('#df-40d25a86-0ed3-43c1-be3e-db060242edba button');\n",
              "      quickchartButtonEl.style.display =\n",
              "        google.colab.kernel.accessAllowed ? 'block' : 'none';\n",
              "    })();\n",
              "  </script>\n",
              "</div>\n",
              "\n",
              "    </div>\n",
              "  </div>\n"
            ]
          },
          "metadata": {},
          "execution_count": 10
        }
      ]
    },
    {
      "cell_type": "markdown",
      "source": [
        "A coluna salário juntamente com a moeda corrente irão ser eliminadas na etapa de limpeza , pois iremos trabalhar com o campo salario_usd  , que já é o mesmo valor convertido para dolar. Importante verificar que o valor máximo apresenta um valor aparentemente muito alto em relação ao valor mínimo, podendo ser ,ou um cargo muito diferenciado  , ou a presença de um outlier , que veremos mais a frente nas visualizações.\n"
      ],
      "metadata": {
        "id": "4ioAmQXQeU0L"
      }
    },
    {
      "cell_type": "code",
      "source": [
        "# Domínios\n",
        "print('Ano de Trabalho')\n",
        "print(dataset['ano'].unique())\n",
        "print(dataset.groupby('ano').size())\n",
        "print('-------------------------------------')\n",
        "print('Experiencia')\n",
        "print(dataset['experiencia'].unique())\n",
        "print(dataset.groupby('experiencia').size())\n",
        "print('-------------------------------------')\n",
        "print('Tamanho da Empresa')\n",
        "print(dataset['porte'].unique())\n",
        "print(dataset.groupby('porte').size())\n",
        "print('-------------------------------------')\n",
        "print('Tipo Enprego')\n",
        "print(dataset['tp_emprego'].unique())\n",
        "print(dataset.groupby('tp_emprego').size())\n",
        "print('-------------------------------------')\n",
        "print('Trabalho Remoto %')\n",
        "print(dataset['remoto_perc'].unique())\n",
        "print(dataset.groupby('remoto_perc').size())\n",
        "print('-------------------------------------')\n",
        "print('Local de Residência')\n",
        "print(dataset['residencia'].unique())\n",
        "print('-------------------------------------')\n",
        "print('Local Trabalho Sede')\n",
        "print(dataset['local_job'].unique())"
      ],
      "metadata": {
        "colab": {
          "base_uri": "https://localhost:8080/"
        },
        "id": "iJAYVLRO715u",
        "outputId": "1cc58d08-bb20-4d42-b451-31f3f15a2df4"
      },
      "execution_count": 11,
      "outputs": [
        {
          "output_type": "stream",
          "name": "stdout",
          "text": [
            "Ano de Trabalho\n",
            "[2023 2022 2020 2021]\n",
            "ano\n",
            "2020      76\n",
            "2021     230\n",
            "2022    1664\n",
            "2023    1785\n",
            "dtype: int64\n",
            "-------------------------------------\n",
            "Experiencia\n",
            "['SE' 'MI' 'EN' 'EX']\n",
            "experiencia\n",
            "EN     320\n",
            "EX     114\n",
            "MI     805\n",
            "SE    2516\n",
            "dtype: int64\n",
            "-------------------------------------\n",
            "Tamanho da Empresa\n",
            "['L' 'S' 'M']\n",
            "porte\n",
            "L     454\n",
            "M    3153\n",
            "S     148\n",
            "dtype: int64\n",
            "-------------------------------------\n",
            "Tipo Enprego\n",
            "['FT' 'CT' 'FL' 'PT']\n",
            "tp_emprego\n",
            "CT      10\n",
            "FL      10\n",
            "FT    3718\n",
            "PT      17\n",
            "dtype: int64\n",
            "-------------------------------------\n",
            "Trabalho Remoto %\n",
            "[100   0  50]\n",
            "remoto_perc\n",
            "0      1923\n",
            "50      189\n",
            "100    1643\n",
            "dtype: int64\n",
            "-------------------------------------\n",
            "Local de Residência\n",
            "['ES' 'US' 'CA' 'DE' 'GB' 'NG' 'IN' 'HK' 'PT' 'NL' 'CH' 'CF' 'FR' 'AU'\n",
            " 'FI' 'UA' 'IE' 'IL' 'GH' 'AT' 'CO' 'SG' 'SE' 'SI' 'MX' 'UZ' 'BR' 'TH'\n",
            " 'HR' 'PL' 'KW' 'VN' 'CY' 'AR' 'AM' 'BA' 'KE' 'GR' 'MK' 'LV' 'RO' 'PK'\n",
            " 'IT' 'MA' 'LT' 'BE' 'AS' 'IR' 'HU' 'SK' 'CN' 'CZ' 'CR' 'TR' 'CL' 'PR'\n",
            " 'DK' 'BO' 'PH' 'DO' 'EG' 'ID' 'AE' 'MY' 'JP' 'EE' 'HN' 'TN' 'RU' 'DZ'\n",
            " 'IQ' 'BG' 'JE' 'RS' 'NZ' 'MD' 'LU' 'MT']\n",
            "-------------------------------------\n",
            "Local Trabalho Sede\n",
            "['ES' 'US' 'CA' 'DE' 'GB' 'NG' 'IN' 'HK' 'NL' 'CH' 'CF' 'FR' 'FI' 'UA'\n",
            " 'IE' 'IL' 'GH' 'CO' 'SG' 'AU' 'SE' 'SI' 'MX' 'BR' 'PT' 'RU' 'TH' 'HR'\n",
            " 'VN' 'EE' 'AM' 'BA' 'KE' 'GR' 'MK' 'LV' 'RO' 'PK' 'IT' 'MA' 'PL' 'AL'\n",
            " 'AR' 'LT' 'AS' 'CR' 'IR' 'BS' 'HU' 'AT' 'SK' 'CZ' 'TR' 'PR' 'DK' 'BO'\n",
            " 'PH' 'BE' 'ID' 'EG' 'AE' 'LU' 'MY' 'HN' 'JP' 'DZ' 'IQ' 'CN' 'NZ' 'CL'\n",
            " 'MD' 'MT']\n"
          ]
        }
      ]
    },
    {
      "cell_type": "code",
      "source": [
        "dataset['experiencia'] = dataset['experiencia'].replace('EN','Entry-level')\n",
        "dataset['experiencia'] = dataset['experiencia'].replace('MI','Mid-level')\n",
        "dataset['experiencia'] = dataset['experiencia'].replace('SE','Senior-level')\n",
        "dataset['experiencia'] = dataset['experiencia'].replace('EX','Executive-level')\n",
        "#\n",
        "dataset['remoto_perc'] = dataset['remoto_perc'].replace(  0, 'Presencial')\n",
        "dataset['remoto_perc'] = dataset['remoto_perc'].replace(  50,'Hibrido')\n",
        "dataset['remoto_perc'] = dataset['remoto_perc'].replace( 100,'Trabalho Remoto')\n",
        "#\n",
        "dataset['porte'] = dataset['porte'].replace('L' ,'Grande')\n",
        "dataset['porte'] = dataset['porte'].replace('S' ,'Pequena')\n",
        "dataset['porte'] = dataset['porte'].replace('M' ,'Media')\n"
      ],
      "metadata": {
        "id": "7V371ymACMIl"
      },
      "execution_count": 12,
      "outputs": []
    },
    {
      "cell_type": "code",
      "source": [
        "colors = sns.cubehelix_palette(start=.8, rot=-.7)\n",
        "experience_vals = dataset['experiencia'].value_counts()\n",
        "plt.pie(experience_vals, labels = experience_vals.index.to_list(), colors = colors, autopct='%.0f%%')\n",
        "plt.title('Distribuição dos Níveis de Experiência')\n",
        "plt.show()\n",
        "#\n",
        "colors = sns.cubehelix_palette(start=.7, rot=-.6)\n",
        "remote_vals = dataset['remoto_perc'].value_counts()\n",
        "plt.pie(remote_vals, labels = remote_vals.index.to_list(), colors = colors, autopct='%.0f%%')\n",
        "plt.title('Distribuição Percentual Trabalho Remoto')\n",
        "plt.show()\n",
        "#\n",
        "colors = sns.cubehelix_palette(start=.6, rot=-.5)\n",
        "porte_vals = dataset['porte'].value_counts()\n",
        "plt.pie(porte_vals, labels = porte_vals.index.to_list(), colors = colors, autopct='%.0f%%')\n",
        "plt.title('Distribuição Tamanho da Empresa')\n",
        "plt.show()\n"
      ],
      "metadata": {
        "colab": {
          "base_uri": "https://localhost:8080/",
          "height": 1000
        },
        "id": "njthQckyC48V",
        "outputId": "694a4f95-66bd-400b-b909-d2360e17385b"
      },
      "execution_count": 13,
      "outputs": [
        {
          "output_type": "display_data",
          "data": {
            "text/plain": [
              "<Figure size 640x480 with 1 Axes>"
            ],
            "image/png": "[encoded data removed]"
          },
          "metadata": {}
        },
        {
          "output_type": "display_data",
          "data": {
            "text/plain": [
              "<Figure size 640x480 with 1 Axes>"
            ],
            "image/png": "[encoded data removed]"
          },
          "metadata": {}
        },
        {
          "output_type": "display_data",
          "data": {
            "text/plain": [
              "<Figure size 640x480 with 1 Axes>"
            ],
            "image/png": "[encoded data removed]"
          },
          "metadata": {}
        }
      ]
    },
    {
      "cell_type": "markdown",
      "source": [
        "**Campo Salário em Dolar**"
      ],
      "metadata": {
        "id": "PeFrLiE5wz0r"
      }
    },
    {
      "cell_type": "code",
      "source": [
        "# Mediana do Salario em Relação ao Nível de Experiência\n",
        "job_expe = dataset.groupby('experiencia').agg({'salario_usd':'median'}).sort_values('salario_usd', ascending=False)\n",
        "job_expe"
      ],
      "metadata": {
        "colab": {
          "base_uri": "https://localhost:8080/",
          "height": 206
        },
        "id": "aNlsXqVBchhr",
        "outputId": "982113b0-3c09-454e-82bf-4056a693d426"
      },
      "execution_count": 14,
      "outputs": [
        {
          "output_type": "execute_result",
          "data": {
            "text/plain": [
              "                 salario_usd\n",
              "experiencia                 \n",
              "Executive-level     196000.0\n",
              "Senior-level        146000.0\n",
              "Mid-level           100000.0\n",
              "Entry-level          70000.0"
            ],
            "text/html": [
              "\n",
              "  <div id=\"df-6dcae4d8-cbe6-4321-a2aa-8c980bb4d09a\" class=\"colab-df-container\">\n",
              "    <div>\n",
              "<style scoped>\n",
              "    .dataframe tbody tr th:only-of-type {\n",
              "        vertical-align: middle;\n",
              "    }\n",
              "\n",
              "    .dataframe tbody tr th {\n",
              "        vertical-align: top;\n",
              "    }\n",
              "\n",
              "    .dataframe thead th {\n",
              "        text-align: right;\n",
              "    }\n",
              "</style>\n",
              "<table border=\"1\" class=\"dataframe\">\n",
              "  <thead>\n",
              "    <tr style=\"text-align: right;\">\n",
              "      <th></th>\n",
              "      <th>salario_usd</th>\n",
              "    </tr>\n",
              "    <tr>\n",
              "      <th>experiencia</th>\n",
              "      <th></th>\n",
              "    </tr>\n",
              "  </thead>\n",
              "  <tbody>\n",
              "    <tr>\n",
              "      <th>Executive-level</th>\n",
              "      <td>196000.0</td>\n",
              "    </tr>\n",
              "    <tr>\n",
              "      <th>Senior-level</th>\n",
              "      <td>146000.0</td>\n",
              "    </tr>\n",
              "    <tr>\n",
              "      <th>Mid-level</th>\n",
              "      <td>100000.0</td>\n",
              "    </tr>\n",
              "    <tr>\n",
              "      <th>Entry-level</th>\n",
              "      <td>70000.0</td>\n",
              "    </tr>\n",
              "  </tbody>\n",
              "</table>\n",
              "</div>\n",
              "    <div class=\"colab-df-buttons\">\n",
              "\n",
              "  <div class=\"colab-df-container\">\n",
              "    <button class=\"colab-df-convert\" onclick=\"convertToInteractive('df-6dcae4d8-cbe6-4321-a2aa-8c980bb4d09a')\"\n",
              "            title=\"Convert this dataframe to an interactive table.\"\n",
              "            style=\"display:none;\">\n",
              "\n",
              "  <svg xmlns=\"http://www.w3.org/2000/svg\" height=\"24px\" viewBox=\"0 -960 960 960\">\n",
              "    <path d=\"M120-120v-720h720v720H120Zm60-500h600v-160H180v160Zm220 220h160v-160H400v160Zm0 220h160v-160H400v160ZM180-400h160v-160H180v160Zm440 0h160v-160H620v160ZM180-180h160v-160H180v160Zm440 0h160v-160H620v160Z\"/>\n",
              "  </svg>\n",
              "    </button>\n",
              "\n",
              "  <style>\n",
              "    .colab-df-container {\n",
              "      display:flex;\n",
              "      gap: 12px;\n",
              "    }\n",
              "\n",
              "    .colab-df-convert {\n",
              "      background-color: #E8F0FE;\n",
              "      border: none;\n",
              "      border-radius: 50%;\n",
              "      cursor: pointer;\n",
              "      display: none;\n",
              "      fill: #1967D2;\n",
              "      height: 32px;\n",
              "      padding: 0 0 0 0;\n",
              "      width: 32px;\n",
              "    }\n",
              "\n",
              "    .colab-df-convert:hover {\n",
              "      background-color: #E2EBFA;\n",
              "      box-shadow: 0px 1px 2px rgba(60, 64, 67, 0.3), 0px 1px 3px 1px rgba(60, 64, 67, 0.15);\n",
              "      fill: #174EA6;\n",
              "    }\n",
              "\n",
              "    .colab-df-buttons div {\n",
              "      margin-bottom: 4px;\n",
              "    }\n",
              "\n",
              "    [theme=dark] .colab-df-convert {\n",
              "      background-color: #3B4455;\n",
              "      fill: #D2E3FC;\n",
              "    }\n",
              "\n",
              "    [theme=dark] .colab-df-convert:hover {\n",
              "      background-color: #434B5C;\n",
              "      box-shadow: 0px 1px 3px 1px rgba(0, 0, 0, 0.15);\n",
              "      filter: drop-shadow(0px 1px 2px rgba(0, 0, 0, 0.3));\n",
              "      fill: #FFFFFF;\n",
              "    }\n",
              "  </style>\n",
              "\n",
              "    <script>\n",
              "      const buttonEl =\n",
              "        document.querySelector('#df-6dcae4d8-cbe6-4321-a2aa-8c980bb4d09a button.colab-df-convert');\n",
              "      buttonEl.style.display =\n",
              "        google.colab.kernel.accessAllowed ? 'block' : 'none';\n",
              "\n",
              "      async function convertToInteractive(key) {\n",
              "        const element = document.querySelector('#df-6dcae4d8-cbe6-4321-a2aa-8c980bb4d09a');\n",
              "        const dataTable =\n",
              "          await google.colab.kernel.invokeFunction('convertToInteractive',\n",
              "                                                    [key], {});\n",
              "        if (!dataTable) return;\n",
              "\n",
              "        const docLinkHtml = 'Like what you see? Visit the ' +\n",
              "          '<a target=\"_blank\" href=https://colab.research.google.com/notebooks/data_table.ipynb>data table notebook</a>'\n",
              "          + ' to learn more about interactive tables.';\n",
              "        element.innerHTML = '';\n",
              "        dataTable['output_type'] = 'display_data';\n",
              "        await google.colab.output.renderOutput(dataTable, element);\n",
              "        const docLink = document.createElement('div');\n",
              "        docLink.innerHTML = docLinkHtml;\n",
              "        element.appendChild(docLink);\n",
              "      }\n",
              "    </script>\n",
              "  </div>\n",
              "\n",
              "\n",
              "<div id=\"df-8ce181fe-b73b-49a6-b545-ecf56a776e22\">\n",
              "  <button class=\"colab-df-quickchart\" onclick=\"quickchart('df-8ce181fe-b73b-49a6-b545-ecf56a776e22')\"\n",
              "            title=\"Suggest charts\"\n",
              "            style=\"display:none;\">\n",
              "\n",
              "<svg xmlns=\"http://www.w3.org/2000/svg\" height=\"24px\"viewBox=\"0 0 24 24\"\n",
              "     width=\"24px\">\n",
              "    <g>\n",
              "        <path d=\"M19 3H5c-1.1 0-2 .9-2 2v14c0 1.1.9 2 2 2h14c1.1 0 2-.9 2-2V5c0-1.1-.9-2-2-2zM9 17H7v-7h2v7zm4 0h-2V7h2v10zm4 0h-2v-4h2v4z\"/>\n",
              "    </g>\n",
              "</svg>\n",
              "  </button>\n",
              "\n",
              "<style>\n",
              "  .colab-df-quickchart {\n",
              "      --bg-color: #E8F0FE;\n",
              "      --fill-color: #1967D2;\n",
              "      --hover-bg-color: #E2EBFA;\n",
              "      --hover-fill-color: #174EA6;\n",
              "      --disabled-fill-color: #AAA;\n",
              "      --disabled-bg-color: #DDD;\n",
              "  }\n",
              "\n",
              "  [theme=dark] .colab-df-quickchart {\n",
              "      --bg-color: #3B4455;\n",
              "      --fill-color: #D2E3FC;\n",
              "      --hover-bg-color: #434B5C;\n",
              "      --hover-fill-color: #FFFFFF;\n",
              "      --disabled-bg-color: #3B4455;\n",
              "      --disabled-fill-color: #666;\n",
              "  }\n",
              "\n",
              "  .colab-df-quickchart {\n",
              "    background-color: var(--bg-color);\n",
              "    border: none;\n",
              "    border-radius: 50%;\n",
              "    cursor: pointer;\n",
              "    display: none;\n",
              "    fill: var(--fill-color);\n",
              "    height: 32px;\n",
              "    padding: 0;\n",
              "    width: 32px;\n",
              "  }\n",
              "\n",
              "  .colab-df-quickchart:hover {\n",
              "    background-color: var(--hover-bg-color);\n",
              "    box-shadow: 0 1px 2px rgba(60, 64, 67, 0.3), 0 1px 3px 1px rgba(60, 64, 67, 0.15);\n",
              "    fill: var(--button-hover-fill-color);\n",
              "  }\n",
              "\n",
              "  .colab-df-quickchart-complete:disabled,\n",
              "  .colab-df-quickchart-complete:disabled:hover {\n",
              "    background-color: var(--disabled-bg-color);\n",
              "    fill: var(--disabled-fill-color);\n",
              "    box-shadow: none;\n",
              "  }\n",
              "\n",
              "  .colab-df-spinner {\n",
              "    border: 2px solid var(--fill-color);\n",
              "    border-color: transparent;\n",
              "    border-bottom-color: var(--fill-color);\n",
              "    animation:\n",
              "      spin 1s steps(1) infinite;\n",
              "  }\n",
              "\n",
              "  @keyframes spin {\n",
              "    0% {\n",
              "      border-color: transparent;\n",
              "      border-bottom-color: var(--fill-color);\n",
              "      border-left-color: var(--fill-color);\n",
              "    }\n",
              "    20% {\n",
              "      border-color: transparent;\n",
              "      border-left-color: var(--fill-color);\n",
              "      border-top-color: var(--fill-color);\n",
              "    }\n",
              "    30% {\n",
              "      border-color: transparent;\n",
              "      border-left-color: var(--fill-color);\n",
              "      border-top-color: var(--fill-color);\n",
              "      border-right-color: var(--fill-color);\n",
              "    }\n",
              "    40% {\n",
              "      border-color: transparent;\n",
              "      border-right-color: var(--fill-color);\n",
              "      border-top-color: var(--fill-color);\n",
              "    }\n",
              "    60% {\n",
              "      border-color: transparent;\n",
              "      border-right-color: var(--fill-color);\n",
              "    }\n",
              "    80% {\n",
              "      border-color: transparent;\n",
              "      border-right-color: var(--fill-color);\n",
              "      border-bottom-color: var(--fill-color);\n",
              "    }\n",
              "    90% {\n",
              "      border-color: transparent;\n",
              "      border-bottom-color: var(--fill-color);\n",
              "    }\n",
              "  }\n",
              "</style>\n",
              "\n",
              "  <script>\n",
              "    async function quickchart(key) {\n",
              "      const quickchartButtonEl =\n",
              "        document.querySelector('#' + key + ' button');\n",
              "      quickchartButtonEl.disabled = true;  // To prevent multiple clicks.\n",
              "      quickchartButtonEl.classList.add('colab-df-spinner');\n",
              "      try {\n",
              "        const charts = await google.colab.kernel.invokeFunction(\n",
              "            'suggestCharts', [key], {});\n",
              "      } catch (error) {\n",
              "        console.error('Error during call to suggestCharts:', error);\n",
              "      }\n",
              "      quickchartButtonEl.classList.remove('colab-df-spinner');\n",
              "      quickchartButtonEl.classList.add('colab-df-quickchart-complete');\n",
              "    }\n",
              "    (() => {\n",
              "      let quickchartButtonEl =\n",
              "        document.querySelector('#df-8ce181fe-b73b-49a6-b545-ecf56a776e22 button');\n",
              "      quickchartButtonEl.style.display =\n",
              "        google.colab.kernel.accessAllowed ? 'block' : 'none';\n",
              "    })();\n",
              "  </script>\n",
              "</div>\n",
              "\n",
              "  <div id=\"id_57fa7c93-a50b-4c43-9cc4-0ddbc73485c1\">\n",
              "    <style>\n",
              "      .colab-df-generate {\n",
              "        background-color: #E8F0FE;\n",
              "        border: none;\n",
              "        border-radius: 50%;\n",
              "        cursor: pointer;\n",
              "        display: none;\n",
              "        fill: #1967D2;\n",
              "        height: 32px;\n",
              "        padding: 0 0 0 0;\n",
              "        width: 32px;\n",
              "      }\n",
              "\n",
              "      .colab-df-generate:hover {\n",
              "        background-color: #E2EBFA;\n",
              "        box-shadow: 0px 1px 2px rgba(60, 64, 67, 0.3), 0px 1px 3px 1px rgba(60, 64, 67, 0.15);\n",
              "        fill: #174EA6;\n",
              "      }\n",
              "\n",
              "      [theme=dark] .colab-df-generate {\n",
              "        background-color: #3B4455;\n",
              "        fill: #D2E3FC;\n",
              "      }\n",
              "\n",
              "      [theme=dark] .colab-df-generate:hover {\n",
              "        background-color: #434B5C;\n",
              "        box-shadow: 0px 1px 3px 1px rgba(0, 0, 0, 0.15);\n",
              "        filter: drop-shadow(0px 1px 2px rgba(0, 0, 0, 0.3));\n",
              "        fill: #FFFFFF;\n",
              "      }\n",
              "    </style>\n",
              "    <button class=\"colab-df-generate\" onclick=\"generateWithVariable('job_expe')\"\n",
              "            title=\"Generate code using this dataframe.\"\n",
              "            style=\"display:none;\">\n",
              "\n",
              "  <svg xmlns=\"http://www.w3.org/2000/svg\" height=\"24px\"viewBox=\"0 0 24 24\"\n",
              "       width=\"24px\">\n",
              "    <path d=\"M7,19H8.4L18.45,9,17,7.55,7,17.6ZM5,21V16.75L18.45,3.32a2,2,0,0,1,2.83,0l1.4,1.43a1.91,1.91,0,0,1,.58,1.4,1.91,1.91,0,0,1-.58,1.4L9.25,21ZM18.45,9,17,7.55Zm-12,3A5.31,5.31,0,0,0,4.9,8.1,5.31,5.31,0,0,0,1,6.5,5.31,5.31,0,0,0,4.9,4.9,5.31,5.31,0,0,0,6.5,1,5.31,5.31,0,0,0,8.1,4.9,5.31,5.31,0,0,0,12,6.5,5.46,5.46,0,0,0,6.5,12Z\"/>\n",
              "  </svg>\n",
              "    </button>\n",
              "    <script>\n",
              "      (() => {\n",
              "      const buttonEl =\n",
              "        document.querySelector('#id_57fa7c93-a50b-4c43-9cc4-0ddbc73485c1 button.colab-df-generate');\n",
              "      buttonEl.style.display =\n",
              "        google.colab.kernel.accessAllowed ? 'block' : 'none';\n",
              "\n",
              "      buttonEl.onclick = () => {\n",
              "        google.colab.notebook.generateWithVariable('job_expe');\n",
              "      }\n",
              "      })();\n",
              "    </script>\n",
              "  </div>\n",
              "\n",
              "    </div>\n",
              "  </div>\n"
            ]
          },
          "metadata": {},
          "execution_count": 14
        }
      ]
    },
    {
      "cell_type": "code",
      "source": [
        "plt.figure(figsize=(11,8))\n",
        "ax= sns.boxplot(x='porte', y='salario_usd', data=dataset)\n",
        "plt.title('Salarios por Tamanho da Empresa', size=22, loc='center')\n",
        "plt.xlabel('Tamanho da Empresa', size=12)\n",
        "plt.ylabel('Salary', size=12)"
      ],
      "metadata": {
        "colab": {
          "base_uri": "https://localhost:8080/",
          "height": 749
        },
        "id": "5Jbe0Cm8iKIu",
        "outputId": "66a92933-c3b3-4e71-bfb6-8554a82d22f6"
      },
      "execution_count": 15,
      "outputs": [
        {
          "output_type": "execute_result",
          "data": {
            "text/plain": [
              "Text(0, 0.5, 'Salary')"
            ]
          },
          "metadata": {},
          "execution_count": 15
        },
        {
          "output_type": "display_data",
          "data": {
            "text/plain": [
              "<Figure size 1100x800 with 1 Axes>"
            ],
            "image/png": "[encoded data removed]"
          },
          "metadata": {}
        }
      ]
    },
    {
      "cell_type": "markdown",
      "source": [
        "Empresas maiores geralmente têm mais recursos financeiros, o que pode se refletir em salários mais altos para cientistas de dados , mas não é o que acontece neste gráfico, que está mais tendenciado a Média Empresa com salários melhores."
      ],
      "metadata": {
        "id": "7txf534fpxEE"
      }
    },
    {
      "cell_type": "markdown",
      "source": [
        "**Distribuição trabalho remoto por nível de experiência**"
      ],
      "metadata": {
        "id": "j58vQxKWaM-9"
      }
    },
    {
      "cell_type": "code",
      "source": [
        "ax = sns.countplot(x='remoto_perc',hue='experiencia', data=dataset)\n",
        "for container in ax.containers:\n",
        "    ax.bar_label(container)\n",
        "plt.xlabel('Status')\n",
        "plt.ylabel('Total Empregados')\n",
        "plt.title(\"Trabalho Remoto por Nível de Experiência\", fontsize=22)"
      ],
      "metadata": {
        "colab": {
          "base_uri": "https://localhost:8080/",
          "height": 500
        },
        "id": "4jUmRAkIWkmd",
        "outputId": "ad84d3b4-d785-4ef1-d964-1cdfc20e99e9"
      },
      "execution_count": 16,
      "outputs": [
        {
          "output_type": "execute_result",
          "data": {
            "text/plain": [
              "Text(0.5, 1.0, 'Trabalho Remoto por Nível de Experiência')"
            ]
          },
          "metadata": {},
          "execution_count": 16
        },
        {
          "output_type": "display_data",
          "data": {
            "text/plain": [
              "<Figure size 640x480 with 1 Axes>"
            ],
            "image/png": "[encoded data removed]"
          },
          "metadata": {}
        }
      ]
    },
    {
      "cell_type": "markdown",
      "source": [
        "Trabalho remoto pode oferecer mais flexibilidade, especialmente para profissionais experientes que podem preferir um equilíbrio entre vida profissional e pessoal. No entanto, a experiência em trabalho remoto também pode variar, com alguns profissionais mais jovens buscando oportunidades presenciais para aprendizado mais prático e colaboração intensiva  como se verifica no perfil de Mid-level aumentada no trabalho remoto do que no trabalho presencial"
      ],
      "metadata": {
        "id": "lj76kc-Hnwpv"
      }
    },
    {
      "cell_type": "markdown",
      "source": [
        "**Distribuição Trabalho Remoto por Ano**"
      ],
      "metadata": {
        "id": "knPzREjdmVs4"
      }
    },
    {
      "cell_type": "code",
      "source": [
        "#\n",
        "fig, axs = plt.subplots(4, 1, figsize=(5, 10))\n",
        "#\n",
        "for i, year in enumerate([2020, 2021, 2022, 2023]):\n",
        "    year_df = dataset[dataset['ano'] == year]\n",
        "    remote_ratio_counts = year_df['remoto_perc'].value_counts(normalize=True)\n",
        "    colors = sns.cubehelix_palette(start=.8, rot=-.7)\n",
        "    sns.barplot(x=remote_ratio_counts.index, y=remote_ratio_counts.values*100, ax=axs[i], palette=colors)\n",
        "    axs[i].set_title(f'Trabalho Remoto em  {year}')\n",
        "    axs[i].set_ylabel('Percentual')\n",
        "    if year == 2023:\n",
        "        axs[i].set_xticklabels(['Presencial', '50% Remoto','Trabalho Remoto'])\n",
        "    else:\n",
        "        axs[i].set_xticks([])\n",
        "    axs[i].set_xlabel('')\n",
        "\n",
        "plt.show()"
      ],
      "metadata": {
        "colab": {
          "base_uri": "https://localhost:8080/",
          "height": 853
        },
        "id": "KFJ3TWn6itZp",
        "outputId": "4a5ff1ff-48d2-4c92-b8f6-79f2fa7b76b6"
      },
      "execution_count": 17,
      "outputs": [
        {
          "output_type": "display_data",
          "data": {
            "text/plain": [
              "<Figure size 500x1000 with 4 Axes>"
            ],
            "image/png": "[encoded data removed]"
          },
          "metadata": {}
        }
      ]
    },
    {
      "cell_type": "markdown",
      "source": [
        "**Distribuição Salário por Ano de Experiência**"
      ],
      "metadata": {
        "id": "wKUFL9U2aE_U"
      }
    },
    {
      "cell_type": "code",
      "source": [
        "fig, ax = plt.subplots(figsize=(10, 6))\n",
        "# Boxplot\n",
        "sns.boxplot(x='ano', y='salario_usd', hue='experiencia', data=df_orig,\n",
        "            hue_order=['EN', 'MI', 'SE', 'EX'],\n",
        "            palette=['blue', 'green', 'orange', 'red'],\n",
        "            ax=ax)\n",
        "\n",
        "ax.set_ylabel('Salario USD($)')\n",
        "y_ticks = np.arange(0, dataset['salario_usd'].max(), 100000)\n",
        "ax.set_yticks(y_ticks)\n",
        "ax.set_yticklabels([f'${i/1000}k' for i in y_ticks])\n",
        "ax.set_xlabel('Ano')\n",
        "ax.set_title('Distribução do Salário por Ano e Experiência')\n",
        "ax.legend(title='Nível de experiencia')\n",
        "\n",
        "plt.show()\n",
        "\n"
      ],
      "metadata": {
        "colab": {
          "base_uri": "https://localhost:8080/",
          "height": 565
        },
        "id": "C4kfhrbFOZmj",
        "outputId": "76fb5150-1daa-46fb-972c-dc4f100e40c2"
      },
      "execution_count": 18,
      "outputs": [
        {
          "output_type": "display_data",
          "data": {
            "text/plain": [
              "<Figure size 1000x600 with 1 Axes>"
            ],
            "image/png": "[encoded data removed]"
          },
          "metadata": {}
        }
      ]
    },
    {
      "cell_type": "markdown",
      "source": [
        "Essa distribuição pode influenciar diretamente os salários, com profissionais mais experientes geralmente recebendo remuneração mais alta. A demanda crescente por cientistas de dados tem impactado positivamente a progressão de carreira, proporcionando oportunidades para ascender a níveis mais elevados com a acumulação de experiência e habilidades."
      ],
      "metadata": {
        "id": "7HbM1pPvmhqZ"
      }
    },
    {
      "cell_type": "markdown",
      "source": [
        "**Distribuição por Nível de Experiência por Ano**"
      ],
      "metadata": {
        "id": "NvIWv72yl1_N"
      }
    },
    {
      "cell_type": "code",
      "source": [
        "fig, axs = plt.subplots(1, 4, figsize=(20, 5))\n",
        "\n",
        "years = sorted(df_orig['ano'].unique())\n",
        "\n",
        "for i, year in enumerate(years):\n",
        "    ax = axs[i]\n",
        "    data = dataset[df_orig['ano'] == year]['experiencia'].value_counts()\n",
        "    ax.pie(data, labels=data.index, autopct='%1.1f%%', startangle=90,\n",
        "           colors=['blue', 'green', 'orange', 'red'])\n",
        "    ax.set_title(f'Distribuição por Nível de Experiência em {year}')\n",
        "plt.tight_layout()\n",
        "plt.show()"
      ],
      "metadata": {
        "colab": {
          "base_uri": "https://localhost:8080/",
          "height": 327
        },
        "id": "nR3VlXuTYpih",
        "outputId": "2338c889-d93a-4da4-e3f7-afdfeea8bf1b"
      },
      "execution_count": 19,
      "outputs": [
        {
          "output_type": "display_data",
          "data": {
            "text/plain": [
              "<Figure size 2000x500 with 4 Axes>"
            ],
            "image/png": "[encoded data removed]"
          },
          "metadata": {}
        }
      ]
    },
    {
      "cell_type": "code",
      "source": [
        "# Criação do boxplot e swarmplot da coluna   'salario_usd'\n",
        "plt.figure(figsize=(8, 6))\n",
        "sns.boxplot(x=dataset['salario_usd'])\n",
        "sns.swarmplot(x=dataset['salario_usd'], color='red', alpha=0.4, size=2.5)\n",
        "plt.ylabel('Salário (USD)',fontsize=15)\n",
        "plt.xlabel('Salário (USD)',fontsize=15)\n",
        "plt.title('Boxplot e Swarmplot do Salario em Dolar',fontsize=20)\n",
        "plt.show()"
      ],
      "metadata": {
        "id": "RAW_asetus5s"
      },
      "execution_count": null,
      "outputs": []
    },
    {
      "cell_type": "markdown",
      "source": [
        "**Distribuição do nível de experiência:**\n",
        "A maioria das entradas no conjunto de dados é de indivíduos com experiência de nível sénior (SE), seguido de nível médio (MI), nível iniciante (EN) e nível executivo (EX). Poderemos precisar de mais informações para decifrar o significado exato destas abreviaturas, mas é evidente que o nível Sénior (SE) é o nível de experiência mais comum.\n",
        "\n",
        "**Distribuição do tipo de emprego:**\n",
        "A maioria dos indivíduos está empregada a tempo inteiro (FT), com apenas alguns a trabalhar a tempo parcial, por contrato ou como freelancer.\n",
        "\n",
        "**Distribuição do tamanho da empresa:**\n",
        "Um número significativo de pessoas trabalha em empresas de médio porte, seguidas pelas grandes e pequenas empresas.\n",
        "\n",
        "**Os 10 principais cargos:**\n",
        "Engenheiro de dados, cientista de dados e analista de dados são os três principais cargos no conjunto de dados, sendo o engenheiro de ML o mais comum.\n",
        "\n",
        "Analise agora a forma como o salário varia consoante os diferentes factores através da Análise salarial.\n"
      ],
      "metadata": {
        "id": "kmGKD2zBJaHr"
      }
    },
    {
      "cell_type": "markdown",
      "source": [
        "### **3.2. Visualizações Unimodais**"
      ],
      "metadata": {
        "id": "oTJsTcC5o4PO"
      }
    },
    {
      "cell_type": "markdown",
      "source": [
        "Vamos criar agora um histograma para cada atributo numérico do dataset. Veremos que os atributos salario, ano  seguem uma distribuição exponencial, e que salario_usd segue uma distribuição aproximadamente normal."
      ],
      "metadata": {
        "id": "mBRXCDzzo_vd"
      }
    },
    {
      "cell_type": "code",
      "source": [
        "# Histograma\n",
        "dataset.hist(figsize = (15,10))\n",
        "plt.show()"
      ],
      "metadata": {
        "id": "x0Si8w9kpCZw"
      },
      "execution_count": null,
      "outputs": []
    },
    {
      "cell_type": "markdown",
      "source": [
        "Distribuição do salário (em USD):\n",
        "\n",
        "A maioria dos salários está agrupada em torno da extremidade inferior, indicando que a maioria dos profissionais de ciência de dados neste conjunto de dados ganha menos de US$ 200.000. Há alguns valores discrepantes na extremidade superior, que podem representar funções seniores ou funções altamente especializadas no domínio da ciência de dados."
      ],
      "metadata": {
        "id": "2BlwqLY8eVCb"
      }
    },
    {
      "cell_type": "code",
      "source": [
        "# Density Plot\n",
        "dataset.plot(kind = 'density', subplots = True, layout = (3,3), sharex = False, figsize = (15,10))\n",
        "plt.show()\n"
      ],
      "metadata": {
        "id": "ryKkDXz-pNbJ"
      },
      "execution_count": null,
      "outputs": []
    },
    {
      "cell_type": "code",
      "source": [
        "# Boxplot\n",
        "dataset.plot(kind = 'box', subplots = True, layout = (3,3), sharex = False, sharey = False, figsize = (15,10))\n",
        "plt.show()"
      ],
      "metadata": {
        "id": "oolTid-bpU39"
      },
      "execution_count": null,
      "outputs": []
    },
    {
      "cell_type": "code",
      "source": [
        "country_mapping = {\n",
        "    'BR': 'Brazil','US': 'United States',\n",
        "    'EU': 'European Union','IN': 'India',\n",
        "    'HK': 'Hong Kong','PT': 'Portugal',\n",
        "    'ES': 'Spain','CA': 'Canada',\n",
        "    'CF': 'Central African Republic',\n",
        "    'BE': 'Belgium','BA': 'Bosnia and Herzegovina',\n",
        "    'AU': 'Australia','AT': 'Austria',\n",
        "    'AS': 'American Samoa','DE': 'Germany',\n",
        "    'GB': 'United Kingdom','AE': 'United Arab Emirates',\n",
        "    'AM': 'Armenia','AR': 'Argentina',\n",
        "    'DZ': 'Algeria','EE': 'Estonia',\n",
        "    'EG': 'Egypt','FI': 'Finland',\n",
        "    'FR': 'France','BG': 'Bulgaria',\n",
        "    'BO': 'Bolivia','CH': 'Switzerland',\n",
        "    'CL': 'Chile','CN': 'China',\n",
        "    'CO': 'Colombia','CR': 'Costa Rica',\n",
        "    'CY': 'Cyprus','CZ': 'Czech Republic',\n",
        "    'DK': 'Denmark','GH': 'Ghana',\n",
        "    'GR': 'Greece','HN': 'Honduras',\n",
        "    'HR': 'Croatia','HU': 'Hungary',\n",
        "    'ID': 'Indonesia','IE': 'Ireland',\n",
        "    'IL': 'Israel','IQ': 'Iraq'\n",
        "    }"
      ],
      "metadata": {
        "id": "mWya5aGMCzQz"
      },
      "execution_count": null,
      "outputs": []
    },
    {
      "cell_type": "code",
      "source": [
        "# Mapear as localidades de 'local_job' para os países sede\n",
        "import plotly.express as px\n",
        "\n",
        "# Mapear as localidades de 'company_location' para os países sede\n",
        "dataset['local_job'] = dataset['local_job'].map(country_mapping)\n",
        "\n",
        "# Contar a quantidade de ocorrências de cada país na coluna 'company_location'\n",
        "country_counts = dataset['local_job'].value_counts().reset_index()\n",
        "\n",
        "# Renomear as colunas\n",
        "country_counts.columns = ['local_job', 'count']\n",
        "\n",
        "# Criar o gráfico de mapa\n",
        "fig = px.choropleth(\n",
        "    data_frame=country_counts,\n",
        "    locations='local_job',\n",
        "    locationmode='country names',\n",
        "    color='count',\n",
        "    color_continuous_scale='YlOrRd',\n",
        "    range_color=(0, 100),\n",
        "    labels={'count': 'Count'},\n",
        "    title='Distribuição de Empregador por País'\n",
        ")\n",
        "\n",
        "# Exibir o gráfico\n",
        "fig.show()"
      ],
      "metadata": {
        "id": "8t-YuFu7C0Yy"
      },
      "execution_count": null,
      "outputs": []
    },
    {
      "cell_type": "markdown",
      "source": [
        "Continente Norte Americano é onde apresenta o maior volume de empregadores na área de Ciência de Dados , mais fortemente nos Estados Unidos\n",
        "\n",
        "Obs: Este gráfico não aparece no GitHub , mas aparece na execução do  Colab"
      ],
      "metadata": {
        "id": "Wj8A-YUTjqZ9"
      }
    },
    {
      "cell_type": "code",
      "source": [
        "# Os 10 Cargos com o Salário Médio Mais Elevado\n",
        "fig, axs = plt.subplots(figsize=(7, 3))\n",
        "colors = sns.color_palette(\"mako\", 20)\n",
        "\n",
        "top_10_titles = dataset.groupby('cargo')['salario_usd'].mean().sort_values(ascending=False)[:20]\n",
        "\n",
        "sns.barplot(x=top_10_titles.values, y=top_10_titles.index, ax=axs, palette=colors)\n",
        "axs.set_title('Os 20 Cargos com o Salário Médio Mais Elevado')\n",
        "axs.set_xlabel('Media Salarial')\n",
        "axs.set_ylabel('Cargo')\n",
        "axs.set_xticks([0, 100000, 200000, 300000, 400000, 500000])\n",
        "axs.set_xticklabels(['$0', '$100K', '$200K', '$300K', '$400K', '$500K'])\n",
        "plt.show()"
      ],
      "metadata": {
        "id": "UYCH1haMFNlw"
      },
      "execution_count": null,
      "outputs": []
    },
    {
      "cell_type": "code",
      "source": [
        "pivot_table = dataset.pivot_table(values='salario_usd', index='cargo', columns='ano', aggfunc='median')\n",
        "plt.figure(figsize=(14, 60))\n",
        "sns.heatmap(pivot_table, annot=True, fmt=\".2f\", cmap=\"rocket\")\n",
        "plt.title('Mediana do Salário em Dolar para cada Cargo por Ano',fontsize=20)\n",
        "plt.xlabel('Ano',fontsize=15)\n",
        "plt.ylabel('Cargo',fontsize=15)\n",
        "plt.show()"
      ],
      "metadata": {
        "id": "elTrkWuRl4mI"
      },
      "execution_count": null,
      "outputs": []
    },
    {
      "cell_type": "markdown",
      "source": [
        "A Análise  foi realizada em um  dataset em que a série histórica ficou comprometida , pois existem  informações faltantes em relação os cargos durante os 4 anos observado (2020-2023) , como verificado por exemplo , nesta visualização, existem informações  por exemplo, da função de Arquiteto de Big Data no anos de 2021 e 2023 e não existiu no ano de 2022 ."
      ],
      "metadata": {
        "id": "QvnAbPN3EXi1"
      }
    },
    {
      "cell_type": "code",
      "source": [
        "# Distribuição Histórica dos Cargos em relação a quantidade de Empregados\n",
        "a = 2\n",
        "b = 2\n",
        "c = 1\n",
        "fig = plt.figure(figsize = (20, 15))\n",
        "\n",
        "years = sorted(df_orig['ano'].unique())\n",
        "for year in dataset.ano.unique():\n",
        "    dft = dataset[dataset['ano']==year]['cargo'].value_counts().nlargest(10).reset_index()\n",
        "    plt.subplot(a, b, c)\n",
        "    ax = sns.barplot(data = dft , y = dft['index'], x = dft.cargo)\n",
        "    plt.ylabel('Cargos')\n",
        "    plt.xlabel('Qtd de Empregados')\n",
        "    plt.title(f'Top 10 Cargos em  {year}', size=15)\n",
        "    c = c + 1 # the year starts from 2019 and when we add 1 it would be 2020 and the full analysis below\n",
        "plt.tight_layout()\n",
        "plt.show()"
      ],
      "metadata": {
        "id": "RnIX8WpjfXbw"
      },
      "execution_count": null,
      "outputs": []
    },
    {
      "cell_type": "markdown",
      "source": [
        "**Salário  vs. Nível de experiência:**\n",
        "Há uma tendência clara de que, à medida que o nível de experiência aumenta, o salário médio também aumenta. A experiência de nível executivo (EX) tem o salário mediano mais elevado, seguido de nível de entrada (EN), nível médio (MI) e nível sénior (SE). A dispersão dos salários (indicada pela altura das caixas) também parece aumentar com a experiência, o que indica uma maior variabilidade nos salários das funções mais experientes.\n",
        "\n",
        "**Salário vs. Tipo de emprego:**\n",
        "Os empregados a tempo inteiro (FT) têm geralmente salários médios mais elevados em comparação com outros tipos de emprego. As funções com contrato (CT) e freelance (FL) têm distribuições salariais mais amplas, indicando variabilidade no mercado de contratos e freelance.\n",
        "\n",
        "**Salário vs. Tamanho da empresa:**\n",
        "As grandes empresas tendem a oferecer salários médios mais elevados em comparação com as médias e pequenas empresas. Isto pode dever-se ao facto de as empresas de maior dimensão terem mais recursos e atraírem, normalmente, talentos mais experientes.\n",
        "\n",
        "**Salário vs. Trabalho remoto:**\n",
        "Não parece haver uma diferença significativa nos salários médios com base no percentual de trabalho remoto. No entanto, as funções totalmente remotas (100% remotas) têm um salário médio ligeir"
      ],
      "metadata": {
        "id": "FjcJgLwzLVgE"
      }
    },
    {
      "cell_type": "markdown",
      "source": [
        "\n",
        "Para aprofundar essa análise, vamos identificar quais variáveis estão mais fortemente correlacionadas com o aumento do salário médio ao longo do tempo. Além disso, pode explorar visualizações detalhadas, como gráficos de dispersão e mapas de calor, para destacar padrões específicos nos dados.\n",
        "\n",
        "Além disso, ao examinar as mudanças nas proporções de cientistas de dados seniores e os cargos iniciantes ,  podem existir   fatores externos que possam influenciar essas tendências, como mudanças na demanda do mercado, avanços tecnológicos ou eventos econômicos.\n"
      ],
      "metadata": {
        "id": "oHJuKq4JVEE1"
      }
    },
    {
      "cell_type": "markdown",
      "source": [
        "### **3.3. Visualizações Multimodais**"
      ],
      "metadata": {
        "id": "w-KfnvX7pk0h"
      }
    },
    {
      "cell_type": "markdown",
      "source": [
        "A partir da matriz de correlação, podemos ver as relações entre as nossas variáveis numéricas. As variáveis com fortes correlações positivas ou negativas podem afetar o nosso modelo de aprendizagem automática.\n",
        "Uma correlação indica uma relação entre duas variáveis, mas não nos diz se a alteração de uma variável causa a alteração da outra.\n",
        "\n"
      ],
      "metadata": {
        "id": "kVqRLN5spiW0"
      }
    },
    {
      "cell_type": "markdown",
      "source": [
        "**Matriz de Correlação Heatmap**"
      ],
      "metadata": {
        "id": "C0HhHJZ4V___"
      }
    },
    {
      "cell_type": "code",
      "source": [
        "categorical_columns = ['experiencia', 'tp_emprego', 'remoto_perc','porte']\n",
        "numerical_columns = ['salario_usd']"
      ],
      "metadata": {
        "id": "aQLTyahqsWZS"
      },
      "execution_count": null,
      "outputs": []
    },
    {
      "cell_type": "code",
      "source": [
        "dummy_variables = pd.get_dummies(dataset, columns=categorical_columns, drop_first=False)"
      ],
      "metadata": {
        "id": "uCmom9BUsdCx"
      },
      "execution_count": null,
      "outputs": []
    },
    {
      "cell_type": "code",
      "source": [
        "from sklearn.preprocessing import StandardScaler\n",
        "\n",
        "scaler = StandardScaler()\n",
        "\n",
        "# Scale the numerical columns\n",
        "scaled_numerical = scaler.fit_transform(dataset[numerical_columns])\n",
        "\n",
        "# Convert the scaled numerical columns\n",
        "scaled_numerical_df = pd.DataFrame(scaled_numerical, columns=numerical_columns)\n"
      ],
      "metadata": {
        "id": "xnk1jjxxshVj"
      },
      "execution_count": null,
      "outputs": []
    },
    {
      "cell_type": "code",
      "source": [
        "# Drop the original numerical columns\n",
        "dummy_variables = dummy_variables.drop(numerical_columns, axis=1)\n",
        "\n",
        "# Concatenate the dummy variables and scaled numerical columns\n",
        "processed_df = pd.concat([dummy_variables, scaled_numerical_df], axis=1)\n",
        "processed_df = processed_df.drop(['ano', 'salario'], axis=1)\n",
        "correlation_matrix = processed_df.corr()\n",
        "\n",
        "#Graph I.\n",
        "plt.figure(figsize=(15, 10))\n",
        "sns.heatmap(correlation_matrix, annot=True, cmap='rocket', linewidths=0.5, fmt='.2f')\n",
        "plt.title(\"Correlation Matrix Heatmap\")\n",
        "plt.show()"
      ],
      "metadata": {
        "id": "cJR7bYLysmsQ"
      },
      "execution_count": null,
      "outputs": []
    },
    {
      "cell_type": "code",
      "source": [
        "corr = processed_df.corr()\n",
        "target_corr = corr['salario_usd'].drop('salario_usd')\n",
        "\n",
        "# Sort correlation values in descending order\n",
        "target_corr_sorted = target_corr.sort_values(ascending=False)\n",
        "\n",
        "sns.set(font_scale=0.8)\n",
        "sns.set_style(\"white\")\n",
        "sns.set_palette(\"PuBuGn_d\")\n",
        "sns.heatmap(target_corr_sorted.to_frame(), cmap=\"rocket\", annot=True, fmt='.2f')\n",
        "plt.title('Correlation with Salary')\n",
        "plt.show()"
      ],
      "metadata": {
        "id": "6V-7AsLjulUB"
      },
      "execution_count": null,
      "outputs": []
    },
    {
      "cell_type": "code",
      "source": [
        "ds=dataset\n",
        "# transformar variáveis em valores numéricos\n",
        "\n",
        "ds['porte'] = ds['porte'].replace('Pequena', 1)\n",
        "ds['porte'] = ds['porte'].replace('Media', 2)\n",
        "ds['porte'] = ds['porte'].replace('Grande', 3)\n",
        "#\n",
        "ds['experiencia'] = ds['experiencia'].replace('Entry-level', 1)\n",
        "ds['experiencia'] = ds['experiencia'].replace('Mid-level', 2)\n",
        "ds['experiencia'] = ds['experiencia'].replace('Senior-level', 3)\n",
        "ds['experiencia'] = ds['experiencia'].replace('Executive-level', 4)\n",
        "#\n",
        "ds['tp_emprego'] = ds['tp_emprego'].replace('PT', 1)\n",
        "ds['tp_emprego'] = ds['tp_emprego'].replace('FL', 2)\n",
        "ds['tp_emprego'] = ds['tp_emprego'].replace('CT', 3)\n",
        "ds['tp_emprego'] = ds['tp_emprego'].replace('FT', 4)\n",
        "#\n",
        "ds['remoto_perc'] = ds['remoto_perc'].replace('Presencial', 0)\n",
        "ds['remoto_perc'] = ds['remoto_perc'].replace('Trabalho Remoto', 2)\n",
        "ds['remoto_perc'] = ds['remoto_perc'].replace('Hibrido', 3)\n"
      ],
      "metadata": {
        "id": "tT3_ObS9Rlsc"
      },
      "execution_count": null,
      "outputs": []
    },
    {
      "cell_type": "code",
      "source": [
        "# plot correlation matrix between ano, salario, porte, experiencia\n",
        "#\n",
        "fig, axs = plt.subplots(figsize=(8, 3))\n",
        "corr = dataset[['ano', 'salario_usd', 'porte', 'remoto_perc', 'tp_emprego']].corr()\n",
        "sns.heatmap(corr, annot=True, ax=axs, cmap='RdBu')\n",
        "axs.set_title('Correlation Matrix')\n",
        "axs.set_xticklabels(['Ano', 'Salario', 'Porte', '% Remoto', 'Tipo Emprego'])\n",
        "axs.set_yticklabels(['Ano', 'Salario', 'Porte', '% Remoto', 'Tipo Emprego'], rotation=0)\n",
        "plt.show()\n"
      ],
      "metadata": {
        "id": "3nuA6VYeUDJR"
      },
      "execution_count": null,
      "outputs": []
    },
    {
      "cell_type": "markdown",
      "source": [
        "<i align=\"justified\">O salário está positivamente correlacionado com o ano de trabalho, o que significa que os salários aumentaram desde 2020. O ano de trabalho está negativamente correlacionado com o trabalho remoto, uma vez que os trabalhadores começaram a regressar ao escritório após a pandemia. </i>"
      ],
      "metadata": {
        "id": "6GOoVnDlUuK1"
      }
    },
    {
      "cell_type": "markdown",
      "source": [
        "Por sua vez, o gráfico de dispersão (scatter plot) mostra o relacionamento entre duas variáveis. Vamos exibir um para cada par de atributos dos dataset, usando o Seaborn."
      ],
      "metadata": {
        "id": "GPZKPxp9qDkV"
      }
    },
    {
      "cell_type": "code",
      "source": [
        "# Scatter Plot com Seaborn - Variação 1\n",
        "\n",
        "sns.pairplot(df_orig)"
      ],
      "metadata": {
        "id": "4A6k7S9MqFwa"
      },
      "execution_count": null,
      "outputs": []
    },
    {
      "cell_type": "code",
      "source": [
        "# Scatter Plot com Seaborn - Variação 2\n",
        "\n",
        "sns.pairplot(df_orig, hue = \"porte\", height = 2.5);"
      ],
      "metadata": {
        "id": "SANOXp-iqRSy"
      },
      "execution_count": null,
      "outputs": []
    },
    {
      "cell_type": "markdown",
      "source": [
        "## **4. Pré-Processamento de dados**"
      ],
      "metadata": {
        "id": "-_Hr8eU5qWLM"
      }
    },
    {
      "cell_type": "markdown",
      "source": [
        "### **4.1. Tratamento de Missings e Limpeza**"
      ],
      "metadata": {
        "id": "eGXqSl4Aqj55"
      }
    },
    {
      "cell_type": "markdown",
      "source": [
        "**Verificar Linhas Duplicatas**"
      ],
      "metadata": {
        "id": "g1p-BaoFZ85U"
      }
    },
    {
      "cell_type": "code",
      "source": [
        "df_orig = df_orig[['ano','experiencia', 'tp_emprego', 'cargo', 'salario',  'moeda',\n",
        "                   'residencia' , 'remoto_perc','local_job', 'porte'  ,\n",
        "    'salario_usd'\n",
        "]]"
      ],
      "metadata": {
        "id": "piF2jdjq4LjX"
      },
      "execution_count": null,
      "outputs": []
    },
    {
      "cell_type": "code",
      "source": [
        "duplicate_rows = df_orig[df_orig.duplicated()]\n",
        "duplicate_rows.shape"
      ],
      "metadata": {
        "id": "A9p5zufoZ1I4"
      },
      "execution_count": null,
      "outputs": []
    },
    {
      "cell_type": "code",
      "source": [
        "# Quantidade de Registros antes da retirada de duplicidade\n",
        "df_orig.shape"
      ],
      "metadata": {
        "id": "0aqvQ0TG1W50"
      },
      "execution_count": null,
      "outputs": []
    },
    {
      "cell_type": "code",
      "source": [
        "# Limpeza das linhas duplicatas\n",
        "df_orig.drop_duplicates(keep='last', inplace = True)\n",
        "df_orig.shape"
      ],
      "metadata": {
        "id": "RpdaLvJvaXls"
      },
      "execution_count": null,
      "outputs": []
    },
    {
      "cell_type": "markdown",
      "source": [
        "**Verificar missings**\n"
      ],
      "metadata": {
        "id": "7JiQa_INrBhx"
      }
    },
    {
      "cell_type": "code",
      "source": [
        "df_orig[df_orig.isnull().any(axis=1)]"
      ],
      "metadata": {
        "id": "0rVfByucZr10"
      },
      "execution_count": null,
      "outputs": []
    },
    {
      "cell_type": "code",
      "source": [
        "# verificando nulls no dataset\n",
        "df_orig.isnull().sum()"
      ],
      "metadata": {
        "id": "JDY1I5tMrEVq"
      },
      "execution_count": null,
      "outputs": []
    },
    {
      "cell_type": "code",
      "source": [
        "# salvando um NOVO dataset para tratamento de missings\n",
        "\n",
        "# recuperando os nomes das colunas\n",
        "col = list(df_orig.columns)\n",
        "\n",
        "# o novo dataset irá conter todas as colunas com exceção da última (classe)\n",
        "atributos = df_orig[list(df_orig.columns)]\n",
        "\n",
        "# substituindo os zeros por NaN\n",
        "atributos.replace(0, np.nan, inplace=True)\n",
        "\n",
        "# exibindo visualização matricial da nulidade do dataset\n",
        "ms.matrix(atributos)"
      ],
      "metadata": {
        "id": "179I3n7_eb_U"
      },
      "execution_count": null,
      "outputs": []
    },
    {
      "cell_type": "code",
      "source": [
        "datasetSemMissings=pd.DataFrame(atributos)\n",
        "# substituindo os zeros por NaN\n",
        "datasetSemMissings.replace(0, np.nan, inplace=True)\n",
        "\n",
        "# exibindo visualização matricial da nulidade do dataset\n",
        "ms.matrix(datasetSemMissings)"
      ],
      "metadata": {
        "id": "Z5amO4MTdfEm"
      },
      "execution_count": null,
      "outputs": []
    },
    {
      "cell_type": "code",
      "source": [
        "# removendo as colunas desnecessarias\n",
        "atributos.drop(['moeda', 'salario', 'residencia' ], axis=1, inplace= True)\n",
        "\n",
        "# exibindo visualização matricial da nulidade do dataset\n",
        "ms.matrix(atributos)\n",
        "\n"
      ],
      "metadata": {
        "id": "xc_xxd_lrPxH"
      },
      "execution_count": null,
      "outputs": []
    },
    {
      "cell_type": "code",
      "source": [
        "# substituindo os NaN dos campos de salário pela mediana da coluna\n",
        "atributos['salario_usd'].fillna(atributos['salario_usd'].median(), inplace=True)\n",
        "\n",
        "# Substituindo  os NaN por 0\n",
        "atributos.replace(np.nan, 0, inplace=True)\n",
        "\n",
        "# exibindo visualização matricial da nulidade do dataset\n",
        "ms.matrix(atributos)"
      ],
      "metadata": {
        "id": "98k3gLF_rZL_"
      },
      "execution_count": null,
      "outputs": []
    },
    {
      "cell_type": "code",
      "source": [
        "# verificando nulls no dataset tratado\n",
        "datasetSemMissings=atributos\n",
        "datasetSemMissings.isnull().sum()"
      ],
      "metadata": {
        "id": "F3N73IW8zQPx"
      },
      "execution_count": null,
      "outputs": []
    },
    {
      "cell_type": "markdown",
      "source": [
        "### **4.2. Separação em conjunto de treino e conjunto de teste**\n",
        "\n",
        "A separação de dados em conjuntos de treino e teste é crucial para avaliar a capacidade do modelo de machine learning em generalizar para novos dados. Ao treinar o modelo com um conjunto separado de dados de treino, você permite que ele aprenda padrões nos dados. O conjunto de teste, por sua vez, oferece uma avaliação objetiva do desempenho do modelo em dados não vistos anteriormente, simulando condições do mundo real. Essa prática ajuda a evitar overfitting, onde o modelo memoriza os dados de treino em vez de aprender padrões gerais, garantindo assim que o modelo seja mais robusto e eficaz ao lidar com novas informações, como salários não observados durante o treinamento.. Primeiramente, iremos sinalizar quais são as colunas de atributos (X - 0 a 7) e qual é Y que é o campo salario_usd."
      ],
      "metadata": {
        "id": "QlOo0fWhrpZa"
      }
    },
    {
      "cell_type": "markdown",
      "source": [
        "De seguida, vamos pré-processar e dividir os nossos dados num conjunto de treino e num conjunto de teste. Utilizaremos 80% dos dados para treino e 20% para teste.\n"
      ],
      "metadata": {
        "id": "9l2P0YHVZt6U"
      }
    },
    {
      "cell_type": "markdown",
      "source": [
        "**Separação Treino e Teste do Dataset Original**"
      ],
      "metadata": {
        "id": "XGnp8HP1kQBw"
      }
    },
    {
      "cell_type": "code",
      "source": [
        "print(df_orig.info())"
      ],
      "metadata": {
        "id": "cgNCzDbY6ID8"
      },
      "execution_count": null,
      "outputs": []
    },
    {
      "cell_type": "code",
      "source": [
        "# Proporção do Treino|Teste\n",
        "test_size = 0.20\n",
        "seed = 7\n"
      ],
      "metadata": {
        "id": "HcWMjUIvryj4"
      },
      "execution_count": null,
      "outputs": []
    },
    {
      "cell_type": "code",
      "source": [
        "# Separação em conjuntos de treino e teste (dataset original)\n",
        "array = df_orig.values\n",
        "\n",
        "# separando o array em componentes de input e output\n",
        "X = array[:,0:9]\n",
        "y = array[:,9]\n",
        "#\n",
        "X_train, X_test, y_train, y_test = train_test_split(X, y,\n",
        "    test_size=test_size, shuffle=True, random_state=seed, stratify=y) # com estratificação"
      ],
      "metadata": {
        "id": "UCWrE4umIw7y"
      },
      "execution_count": null,
      "outputs": []
    },
    {
      "cell_type": "markdown",
      "source": [
        "**Separação Treino e Teste do Dataset sem  Missings**"
      ],
      "metadata": {
        "id": "sBIBk2n-kaXP"
      }
    },
    {
      "cell_type": "code",
      "source": [
        "datasetSemMissings"
      ],
      "metadata": {
        "id": "60OugOUxR6kn"
      },
      "execution_count": null,
      "outputs": []
    },
    {
      "cell_type": "code",
      "source": [
        "\n",
        "# Separação em conjuntos de treino e teste (dataset sem missings - 3 colunas a menos!)\n",
        "array = datasetSemMissings.values\n",
        "\n",
        "# separando o array em componentes de input e output\n",
        "X_sm = array[:,0:6]\n",
        "y_sm = array[:,6]\n",
        "\n",
        "X_train_sm, X_test_sm, y_train_sm, y_test_sm = train_test_split(X_sm, y_sm,\n",
        "    test_size=test_size, shuffle=True, random_state=seed, stratify=y_sm) # com estratificação"
      ],
      "metadata": {
        "id": "jikBRl0Tro7n"
      },
      "execution_count": null,
      "outputs": []
    },
    {
      "cell_type": "code",
      "source": [
        "# Separando os valores do dataset em componentes de input (X) e output (Y)\n",
        "X_sm = datasetSemMissings.values[:,0:7]\n",
        "Y_sm = datasetSemMissings.values[:,7]"
      ],
      "metadata": {
        "id": "OqjYOmT0UIz5"
      },
      "execution_count": null,
      "outputs": []
    },
    {
      "cell_type": "markdown",
      "source": [
        "**Codificação Ordinal**"
      ],
      "metadata": {
        "id": "ENtVVXWqF8OF"
      }
    },
    {
      "cell_type": "code",
      "source": [
        "# ordinal encoding para os atributos X\n",
        "encoded_X = OrdinalEncoder().fit_transform(X_sm)\n",
        "\n",
        "# exibindo os dados transformados\n",
        "print(\"Atributos transformados:\")\n",
        "print(encoded_X[:5, :]) # 5 primeiras linhas, todas as colunas"
      ],
      "metadata": {
        "id": "2hCtbwUXFnrS"
      },
      "execution_count": null,
      "outputs": []
    },
    {
      "cell_type": "markdown",
      "source": [
        "**One-hot encoding**"
      ],
      "metadata": {
        "id": "4qeHnaJ5Muku"
      }
    },
    {
      "cell_type": "code",
      "source": [
        " datasetSemMissings.info()"
      ],
      "metadata": {
        "id": "CtMZOW4289Z4"
      },
      "execution_count": null,
      "outputs": []
    },
    {
      "cell_type": "code",
      "source": [
        " datasetSemMissings = pd.get_dummies(data=datasetSemMissings, columns=['porte','experiencia','tp_emprego'])\n",
        " datasetSemMissings.head()"
      ],
      "metadata": {
        "id": "6yLk-ejHW3vs"
      },
      "execution_count": null,
      "outputs": []
    },
    {
      "cell_type": "code",
      "source": [
        " datasetSemMissings.info()"
      ],
      "metadata": {
        "id": "_cTylD6Fjfnc"
      },
      "execution_count": null,
      "outputs": []
    },
    {
      "cell_type": "code",
      "source": [
        "datasetSemMissings.nunique()"
      ],
      "metadata": {
        "id": "z_KlCuCfL345"
      },
      "execution_count": null,
      "outputs": []
    },
    {
      "cell_type": "markdown",
      "source": [
        "## **Conclusão**"
      ],
      "metadata": {
        "id": "znUSGnsQsFe2"
      }
    },
    {
      "cell_type": "markdown",
      "source": [
        "<h5 align=\"justify\"> Nesta análise, torna-se evidente que, para aqueles que procuram uma remuneração de topo no domínio da ciência dos dados, certas escolhas estratégicas podem conduzir a uma remuneração significativamente mais elevada. Em primeiro lugar, definir a trajetória de carreira para o continente Norte Americano, onde se situam alguns dos principais centros tecnológicos do mundo, parece ser uma atitude sensata. Os nossos dados sugerem fortemente que tanto viver como trabalhar nesta região pode aumentar significativamente o potencial de ganhos de um profissional de dados.\n",
        "\n",
        "\n",
        "<h5 align=\"justify\"> Em segundo lugar, este estudo sublinha o valor da especialização no setor. Especificamente, a função de Engenheiro de Dados parece ter um salário médio mais elevado do que a função de Analista, o que aponta para o aumento da procura e do valor associado a esta especialização.\n",
        "\n",
        "<h5 align=\"justify\"> Por último, a longevidade e a experiência no sector desempenham um papel crucial na remuneração. É evidente que os Cientistas de Dados com experiência tendem a receber salários médios consideravelmente mais elevados. Isto confirma a afirmação de que o investimento contínuo no conjunto de competências e no crescimento profissional dentro do sector pode gerar recompensas financeiras significativas ao longo do tempo.\n",
        "\n",
        "<h5 align=\"justify\"> Em suma, para aqueles que aspiram a maximizar os seus ganhos na ciência dos dados, estas conclusões fornecem um roteiro: visar empresas norte-americanas, considerar a possibilidade de orientar a sua carreira para a engenharia de dados e empenhar-se no crescimento e desenvolvimento a longo prazo no sector. Este planeamento estratégico, orientado por uma análise informada, pode muito bem abrir caminho não só para uma carreira gratificante.\n"
      ],
      "metadata": {
        "id": "3g5j4OuXsD7H"
      }
    }
  ]
}